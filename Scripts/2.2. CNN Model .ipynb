{
 "cells": [
  {
   "cell_type": "code",
   "execution_count": 1,
   "id": "06325c95",
   "metadata": {},
   "outputs": [
    {
     "name": "stderr",
     "output_type": "stream",
     "text": [
      "2024-11-03 17:43:40.151557: I tensorflow/core/platform/cpu_feature_guard.cc:210] This TensorFlow binary is optimized to use available CPU instructions in performance-critical operations.\n",
      "To enable the following instructions: AVX2 FMA, in other operations, rebuild TensorFlow with the appropriate compiler flags.\n"
     ]
    }
   ],
   "source": [
    "# Import libraries\n",
    "import pandas as pd\n",
    "import numpy as np\n",
    "import seaborn as sns\n",
    "import os\n",
    "import operator\n",
    "import matplotlib.pyplot as plt\n",
    "from sklearn.model_selection import train_test_split\n",
    "from sklearn.preprocessing import LabelEncoder\n",
    "import tensorflow as tf\n",
    "from numpy import reshape\n",
    "from tensorflow import keras\n",
    "from tensorflow.keras import layers\n",
    "from keras.models import Sequential\n",
    "from keras.layers import LSTM\n",
    "from keras.layers import Conv1D, Conv2D, Dense, BatchNormalization, Flatten, MaxPooling1D, Dense, Dropout\n",
    "from keras.utils import to_categorical"
   ]
  },
  {
   "cell_type": "markdown",
   "id": "5ecc1f05",
   "metadata": {},
   "source": [
    "# Import Data "
   ]
  },
  {
   "cell_type": "code",
   "execution_count": 2,
   "id": "698a507e",
   "metadata": {},
   "outputs": [],
   "source": [
    "path = R'/Users/shaquillelee/Documents/Specialization /Datasets'"
   ]
  },
  {
   "cell_type": "code",
   "execution_count": 3,
   "id": "f4f3ee75",
   "metadata": {},
   "outputs": [],
   "source": [
    "weather_df = pd.read_csv(os.path.join(path, 'Prepared Data', 'weather_cleaned.csv'), index_col = 0)\n",
    "pleasant_df = pd.read_csv(os.path.join(path, 'Prepared Data', 'pleasant_cleaned.csv'), index_col = 0)"
   ]
  },
  {
   "cell_type": "code",
   "execution_count": 4,
   "id": "c9e8c6eb",
   "metadata": {
    "scrolled": false
   },
   "outputs": [
    {
     "data": {
      "text/html": [
       "<div>\n",
       "<style scoped>\n",
       "    .dataframe tbody tr th:only-of-type {\n",
       "        vertical-align: middle;\n",
       "    }\n",
       "\n",
       "    .dataframe tbody tr th {\n",
       "        vertical-align: top;\n",
       "    }\n",
       "\n",
       "    .dataframe thead th {\n",
       "        text-align: right;\n",
       "    }\n",
       "</style>\n",
       "<table border=\"1\" class=\"dataframe\">\n",
       "  <thead>\n",
       "    <tr style=\"text-align: right;\">\n",
       "      <th></th>\n",
       "      <th>BASEL_cloud_cover</th>\n",
       "      <th>BASEL_humidity</th>\n",
       "      <th>BASEL_pressure</th>\n",
       "      <th>BASEL_global_radiation</th>\n",
       "      <th>BASEL_precipitation</th>\n",
       "      <th>BASEL_sunshine</th>\n",
       "      <th>BASEL_temp_mean</th>\n",
       "      <th>BASEL_temp_min</th>\n",
       "      <th>BASEL_temp_max</th>\n",
       "      <th>BELGRADE_cloud_cover</th>\n",
       "      <th>...</th>\n",
       "      <th>STOCKHOLM_temp_max</th>\n",
       "      <th>VALENTIA_cloud_cover</th>\n",
       "      <th>VALENTIA_humidity</th>\n",
       "      <th>VALENTIA_pressure</th>\n",
       "      <th>VALENTIA_global_radiation</th>\n",
       "      <th>VALENTIA_precipitation</th>\n",
       "      <th>VALENTIA_sunshine</th>\n",
       "      <th>VALENTIA_temp_mean</th>\n",
       "      <th>VALENTIA_temp_min</th>\n",
       "      <th>VALENTIA_temp_max</th>\n",
       "    </tr>\n",
       "  </thead>\n",
       "  <tbody>\n",
       "    <tr>\n",
       "      <th>0</th>\n",
       "      <td>7</td>\n",
       "      <td>0.85</td>\n",
       "      <td>1.018</td>\n",
       "      <td>0.32</td>\n",
       "      <td>0.09</td>\n",
       "      <td>0.7</td>\n",
       "      <td>6.5</td>\n",
       "      <td>0.8</td>\n",
       "      <td>10.9</td>\n",
       "      <td>1</td>\n",
       "      <td>...</td>\n",
       "      <td>4.9</td>\n",
       "      <td>5</td>\n",
       "      <td>0.88</td>\n",
       "      <td>1.0003</td>\n",
       "      <td>0.45</td>\n",
       "      <td>0.34</td>\n",
       "      <td>4.7</td>\n",
       "      <td>8.5</td>\n",
       "      <td>6.0</td>\n",
       "      <td>10.9</td>\n",
       "    </tr>\n",
       "    <tr>\n",
       "      <th>1</th>\n",
       "      <td>6</td>\n",
       "      <td>0.84</td>\n",
       "      <td>1.018</td>\n",
       "      <td>0.36</td>\n",
       "      <td>1.05</td>\n",
       "      <td>1.1</td>\n",
       "      <td>6.1</td>\n",
       "      <td>3.3</td>\n",
       "      <td>10.1</td>\n",
       "      <td>6</td>\n",
       "      <td>...</td>\n",
       "      <td>5.0</td>\n",
       "      <td>7</td>\n",
       "      <td>0.91</td>\n",
       "      <td>1.0007</td>\n",
       "      <td>0.25</td>\n",
       "      <td>0.84</td>\n",
       "      <td>0.7</td>\n",
       "      <td>8.9</td>\n",
       "      <td>5.6</td>\n",
       "      <td>12.1</td>\n",
       "    </tr>\n",
       "    <tr>\n",
       "      <th>2</th>\n",
       "      <td>8</td>\n",
       "      <td>0.90</td>\n",
       "      <td>1.018</td>\n",
       "      <td>0.18</td>\n",
       "      <td>0.30</td>\n",
       "      <td>0.0</td>\n",
       "      <td>8.5</td>\n",
       "      <td>5.1</td>\n",
       "      <td>9.9</td>\n",
       "      <td>6</td>\n",
       "      <td>...</td>\n",
       "      <td>4.1</td>\n",
       "      <td>7</td>\n",
       "      <td>0.91</td>\n",
       "      <td>1.0096</td>\n",
       "      <td>0.17</td>\n",
       "      <td>0.08</td>\n",
       "      <td>0.1</td>\n",
       "      <td>10.5</td>\n",
       "      <td>8.1</td>\n",
       "      <td>12.9</td>\n",
       "    </tr>\n",
       "    <tr>\n",
       "      <th>3</th>\n",
       "      <td>3</td>\n",
       "      <td>0.92</td>\n",
       "      <td>1.018</td>\n",
       "      <td>0.58</td>\n",
       "      <td>0.00</td>\n",
       "      <td>4.1</td>\n",
       "      <td>6.3</td>\n",
       "      <td>3.8</td>\n",
       "      <td>10.6</td>\n",
       "      <td>8</td>\n",
       "      <td>...</td>\n",
       "      <td>2.3</td>\n",
       "      <td>7</td>\n",
       "      <td>0.86</td>\n",
       "      <td>1.0184</td>\n",
       "      <td>0.13</td>\n",
       "      <td>0.98</td>\n",
       "      <td>0.0</td>\n",
       "      <td>7.4</td>\n",
       "      <td>7.3</td>\n",
       "      <td>10.6</td>\n",
       "    </tr>\n",
       "    <tr>\n",
       "      <th>4</th>\n",
       "      <td>6</td>\n",
       "      <td>0.95</td>\n",
       "      <td>1.018</td>\n",
       "      <td>0.65</td>\n",
       "      <td>0.14</td>\n",
       "      <td>5.4</td>\n",
       "      <td>3.0</td>\n",
       "      <td>-0.7</td>\n",
       "      <td>6.0</td>\n",
       "      <td>8</td>\n",
       "      <td>...</td>\n",
       "      <td>4.3</td>\n",
       "      <td>3</td>\n",
       "      <td>0.80</td>\n",
       "      <td>1.0328</td>\n",
       "      <td>0.46</td>\n",
       "      <td>0.00</td>\n",
       "      <td>5.7</td>\n",
       "      <td>5.7</td>\n",
       "      <td>3.0</td>\n",
       "      <td>8.4</td>\n",
       "    </tr>\n",
       "  </tbody>\n",
       "</table>\n",
       "<p>5 rows × 135 columns</p>\n",
       "</div>"
      ],
      "text/plain": [
       "   BASEL_cloud_cover  BASEL_humidity  BASEL_pressure  BASEL_global_radiation  \\\n",
       "0                  7            0.85           1.018                    0.32   \n",
       "1                  6            0.84           1.018                    0.36   \n",
       "2                  8            0.90           1.018                    0.18   \n",
       "3                  3            0.92           1.018                    0.58   \n",
       "4                  6            0.95           1.018                    0.65   \n",
       "\n",
       "   BASEL_precipitation  BASEL_sunshine  BASEL_temp_mean  BASEL_temp_min  \\\n",
       "0                 0.09             0.7              6.5             0.8   \n",
       "1                 1.05             1.1              6.1             3.3   \n",
       "2                 0.30             0.0              8.5             5.1   \n",
       "3                 0.00             4.1              6.3             3.8   \n",
       "4                 0.14             5.4              3.0            -0.7   \n",
       "\n",
       "   BASEL_temp_max  BELGRADE_cloud_cover  ...  STOCKHOLM_temp_max  \\\n",
       "0            10.9                     1  ...                 4.9   \n",
       "1            10.1                     6  ...                 5.0   \n",
       "2             9.9                     6  ...                 4.1   \n",
       "3            10.6                     8  ...                 2.3   \n",
       "4             6.0                     8  ...                 4.3   \n",
       "\n",
       "   VALENTIA_cloud_cover  VALENTIA_humidity  VALENTIA_pressure  \\\n",
       "0                     5               0.88             1.0003   \n",
       "1                     7               0.91             1.0007   \n",
       "2                     7               0.91             1.0096   \n",
       "3                     7               0.86             1.0184   \n",
       "4                     3               0.80             1.0328   \n",
       "\n",
       "   VALENTIA_global_radiation  VALENTIA_precipitation  VALENTIA_sunshine  \\\n",
       "0                       0.45                    0.34                4.7   \n",
       "1                       0.25                    0.84                0.7   \n",
       "2                       0.17                    0.08                0.1   \n",
       "3                       0.13                    0.98                0.0   \n",
       "4                       0.46                    0.00                5.7   \n",
       "\n",
       "   VALENTIA_temp_mean  VALENTIA_temp_min  VALENTIA_temp_max  \n",
       "0                 8.5                6.0               10.9  \n",
       "1                 8.9                5.6               12.1  \n",
       "2                10.5                8.1               12.9  \n",
       "3                 7.4                7.3               10.6  \n",
       "4                 5.7                3.0                8.4  \n",
       "\n",
       "[5 rows x 135 columns]"
      ]
     },
     "execution_count": 4,
     "metadata": {},
     "output_type": "execute_result"
    }
   ],
   "source": [
    "weather_df.head()"
   ]
  },
  {
   "cell_type": "code",
   "execution_count": 5,
   "id": "78f19d19",
   "metadata": {},
   "outputs": [
    {
     "data": {
      "text/plain": [
       "(22950, 135)"
      ]
     },
     "execution_count": 5,
     "metadata": {},
     "output_type": "execute_result"
    }
   ],
   "source": [
    "weather_df.shape"
   ]
  },
  {
   "cell_type": "code",
   "execution_count": 6,
   "id": "e6c32b07",
   "metadata": {
    "scrolled": true
   },
   "outputs": [
    {
     "data": {
      "text/html": [
       "<div>\n",
       "<style scoped>\n",
       "    .dataframe tbody tr th:only-of-type {\n",
       "        vertical-align: middle;\n",
       "    }\n",
       "\n",
       "    .dataframe tbody tr th {\n",
       "        vertical-align: top;\n",
       "    }\n",
       "\n",
       "    .dataframe thead th {\n",
       "        text-align: right;\n",
       "    }\n",
       "</style>\n",
       "<table border=\"1\" class=\"dataframe\">\n",
       "  <thead>\n",
       "    <tr style=\"text-align: right;\">\n",
       "      <th></th>\n",
       "      <th>BASEL_pleasant_weather</th>\n",
       "      <th>BELGRADE_pleasant_weather</th>\n",
       "      <th>BUDAPEST_pleasant_weather</th>\n",
       "      <th>DEBILT_pleasant_weather</th>\n",
       "      <th>DUSSELDORF_pleasant_weather</th>\n",
       "      <th>HEATHROW_pleasant_weather</th>\n",
       "      <th>KASSEL_pleasant_weather</th>\n",
       "      <th>LJUBLJANA_pleasant_weather</th>\n",
       "      <th>MAASTRICHT_pleasant_weather</th>\n",
       "      <th>MADRID_pleasant_weather</th>\n",
       "      <th>MUNCHENB_pleasant_weather</th>\n",
       "      <th>OSLO_pleasant_weather</th>\n",
       "      <th>SONNBLICK_pleasant_weather</th>\n",
       "      <th>STOCKHOLM_pleasant_weather</th>\n",
       "      <th>VALENTIA_pleasant_weather</th>\n",
       "    </tr>\n",
       "  </thead>\n",
       "  <tbody>\n",
       "    <tr>\n",
       "      <th>0</th>\n",
       "      <td>0</td>\n",
       "      <td>0</td>\n",
       "      <td>0</td>\n",
       "      <td>0</td>\n",
       "      <td>0</td>\n",
       "      <td>0</td>\n",
       "      <td>0</td>\n",
       "      <td>0</td>\n",
       "      <td>0</td>\n",
       "      <td>0</td>\n",
       "      <td>0</td>\n",
       "      <td>0</td>\n",
       "      <td>0</td>\n",
       "      <td>0</td>\n",
       "      <td>0</td>\n",
       "    </tr>\n",
       "    <tr>\n",
       "      <th>1</th>\n",
       "      <td>0</td>\n",
       "      <td>0</td>\n",
       "      <td>0</td>\n",
       "      <td>0</td>\n",
       "      <td>0</td>\n",
       "      <td>0</td>\n",
       "      <td>0</td>\n",
       "      <td>0</td>\n",
       "      <td>0</td>\n",
       "      <td>0</td>\n",
       "      <td>0</td>\n",
       "      <td>0</td>\n",
       "      <td>0</td>\n",
       "      <td>0</td>\n",
       "      <td>0</td>\n",
       "    </tr>\n",
       "    <tr>\n",
       "      <th>2</th>\n",
       "      <td>0</td>\n",
       "      <td>0</td>\n",
       "      <td>0</td>\n",
       "      <td>0</td>\n",
       "      <td>0</td>\n",
       "      <td>0</td>\n",
       "      <td>0</td>\n",
       "      <td>0</td>\n",
       "      <td>0</td>\n",
       "      <td>0</td>\n",
       "      <td>0</td>\n",
       "      <td>0</td>\n",
       "      <td>0</td>\n",
       "      <td>0</td>\n",
       "      <td>0</td>\n",
       "    </tr>\n",
       "    <tr>\n",
       "      <th>3</th>\n",
       "      <td>0</td>\n",
       "      <td>0</td>\n",
       "      <td>0</td>\n",
       "      <td>0</td>\n",
       "      <td>0</td>\n",
       "      <td>0</td>\n",
       "      <td>0</td>\n",
       "      <td>0</td>\n",
       "      <td>0</td>\n",
       "      <td>0</td>\n",
       "      <td>0</td>\n",
       "      <td>0</td>\n",
       "      <td>0</td>\n",
       "      <td>0</td>\n",
       "      <td>0</td>\n",
       "    </tr>\n",
       "    <tr>\n",
       "      <th>4</th>\n",
       "      <td>0</td>\n",
       "      <td>0</td>\n",
       "      <td>0</td>\n",
       "      <td>0</td>\n",
       "      <td>0</td>\n",
       "      <td>0</td>\n",
       "      <td>0</td>\n",
       "      <td>0</td>\n",
       "      <td>0</td>\n",
       "      <td>0</td>\n",
       "      <td>0</td>\n",
       "      <td>0</td>\n",
       "      <td>0</td>\n",
       "      <td>0</td>\n",
       "      <td>0</td>\n",
       "    </tr>\n",
       "  </tbody>\n",
       "</table>\n",
       "</div>"
      ],
      "text/plain": [
       "   BASEL_pleasant_weather  BELGRADE_pleasant_weather  \\\n",
       "0                       0                          0   \n",
       "1                       0                          0   \n",
       "2                       0                          0   \n",
       "3                       0                          0   \n",
       "4                       0                          0   \n",
       "\n",
       "   BUDAPEST_pleasant_weather  DEBILT_pleasant_weather  \\\n",
       "0                          0                        0   \n",
       "1                          0                        0   \n",
       "2                          0                        0   \n",
       "3                          0                        0   \n",
       "4                          0                        0   \n",
       "\n",
       "   DUSSELDORF_pleasant_weather  HEATHROW_pleasant_weather  \\\n",
       "0                            0                          0   \n",
       "1                            0                          0   \n",
       "2                            0                          0   \n",
       "3                            0                          0   \n",
       "4                            0                          0   \n",
       "\n",
       "   KASSEL_pleasant_weather  LJUBLJANA_pleasant_weather  \\\n",
       "0                        0                           0   \n",
       "1                        0                           0   \n",
       "2                        0                           0   \n",
       "3                        0                           0   \n",
       "4                        0                           0   \n",
       "\n",
       "   MAASTRICHT_pleasant_weather  MADRID_pleasant_weather  \\\n",
       "0                            0                        0   \n",
       "1                            0                        0   \n",
       "2                            0                        0   \n",
       "3                            0                        0   \n",
       "4                            0                        0   \n",
       "\n",
       "   MUNCHENB_pleasant_weather  OSLO_pleasant_weather  \\\n",
       "0                          0                      0   \n",
       "1                          0                      0   \n",
       "2                          0                      0   \n",
       "3                          0                      0   \n",
       "4                          0                      0   \n",
       "\n",
       "   SONNBLICK_pleasant_weather  STOCKHOLM_pleasant_weather  \\\n",
       "0                           0                           0   \n",
       "1                           0                           0   \n",
       "2                           0                           0   \n",
       "3                           0                           0   \n",
       "4                           0                           0   \n",
       "\n",
       "   VALENTIA_pleasant_weather  \n",
       "0                          0  \n",
       "1                          0  \n",
       "2                          0  \n",
       "3                          0  \n",
       "4                          0  "
      ]
     },
     "execution_count": 6,
     "metadata": {},
     "output_type": "execute_result"
    }
   ],
   "source": [
    "pleasant_df.head()"
   ]
  },
  {
   "cell_type": "code",
   "execution_count": 7,
   "id": "9ee36b23",
   "metadata": {
    "scrolled": true
   },
   "outputs": [
    {
     "data": {
      "text/plain": [
       "(22950, 15)"
      ]
     },
     "execution_count": 7,
     "metadata": {},
     "output_type": "execute_result"
    }
   ],
   "source": [
    "pleasant_df.shape"
   ]
  },
  {
   "cell_type": "markdown",
   "id": "b9c5956a",
   "metadata": {},
   "source": [
    "# Split Data "
   ]
  },
  {
   "cell_type": "code",
   "execution_count": 8,
   "id": "deba01f8",
   "metadata": {},
   "outputs": [],
   "source": [
    "# Create 'X' Matrix \n",
    "X = weather_df\n",
    "y = pleasant_df"
   ]
  },
  {
   "cell_type": "code",
   "execution_count": 9,
   "id": "233fe9ec",
   "metadata": {},
   "outputs": [],
   "source": [
    "X = np.array(X)\n",
    "y = np.array(y)"
   ]
  },
  {
   "cell_type": "code",
   "execution_count": 10,
   "id": "a916cee5",
   "metadata": {
    "scrolled": true
   },
   "outputs": [
    {
     "data": {
      "text/plain": [
       "array([[ 7.    ,  0.85  ,  1.018 , ...,  8.5   ,  6.    , 10.9   ],\n",
       "       [ 6.    ,  0.84  ,  1.018 , ...,  8.9   ,  5.6   , 12.1   ],\n",
       "       [ 8.    ,  0.9   ,  1.018 , ..., 10.5   ,  8.1   , 12.9   ],\n",
       "       ...,\n",
       "       [ 4.    ,  0.76  ,  1.0227, ..., 10.7   ,  7.9   , 13.5   ],\n",
       "       [ 5.    ,  0.8   ,  1.0212, ..., 10.7   ,  7.9   , 13.5   ],\n",
       "       [ 5.    ,  0.84  ,  1.0193, ..., 10.7   ,  7.9   , 13.5   ]])"
      ]
     },
     "execution_count": 10,
     "metadata": {},
     "output_type": "execute_result"
    }
   ],
   "source": [
    "X"
   ]
  },
  {
   "cell_type": "code",
   "execution_count": 11,
   "id": "5bc35ff8",
   "metadata": {},
   "outputs": [],
   "source": [
    "X = X.reshape(-1,15,9)"
   ]
  },
  {
   "cell_type": "code",
   "execution_count": 12,
   "id": "4e78585c",
   "metadata": {},
   "outputs": [],
   "source": [
    "#Split data into training and testing sets.\n",
    "X_train, X_test, y_train, y_test = train_test_split(X,y,test_size=0.2)"
   ]
  },
  {
   "cell_type": "code",
   "execution_count": 13,
   "id": "0dc46a41",
   "metadata": {},
   "outputs": [
    {
     "name": "stdout",
     "output_type": "stream",
     "text": [
      "(18360, 15, 9) (18360, 15)\n",
      "(4590, 15, 9) (4590, 15)\n"
     ]
    }
   ],
   "source": [
    "print(X_train.shape, y_train.shape)\n",
    "print(X_test.shape, y_test.shape)"
   ]
  },
  {
   "cell_type": "markdown",
   "id": "9c2bd14d",
   "metadata": {},
   "source": [
    "# 3. Creating CNN (Convolution Neural Network) model"
   ]
  },
  {
   "cell_type": "code",
   "execution_count": 14,
   "id": "dfaa1654",
   "metadata": {},
   "outputs": [],
   "source": [
    "stations = {\n",
    "    0: 'BASEL',\n",
    "    1: 'BELGRADE',\n",
    "    2: 'BUDAPEST',\n",
    "    3: 'DEBILT',\n",
    "    4: 'DUSSELDORF',\n",
    "    5: 'HEATHROW',\n",
    "    6: 'KASSEL',\n",
    "    7: 'LJUBLJANA',\n",
    "    8: 'MAASTRICHT',\n",
    "    9: 'MADRID',\n",
    "   10: 'MUNCHENB',\n",
    "   11: 'OSLO',\n",
    "   12: 'SONNBLICK',\n",
    "   13: 'STOCKHOLM',\n",
    "   14: 'VALENTIA',\n",
    "}"
   ]
  },
  {
   "cell_type": "code",
   "execution_count": 15,
   "id": "560512f6",
   "metadata": {},
   "outputs": [
    {
     "name": "stderr",
     "output_type": "stream",
     "text": [
      "/Users/shaquillelee/anaconda3/lib/python3.11/site-packages/keras/src/layers/convolutional/base_conv.py:107: UserWarning: Do not pass an `input_shape`/`input_dim` argument to a layer. When using Sequential models, prefer using an `Input(shape)` object as the first layer in the model instead.\n",
      "  super().__init__(activity_regularizer=activity_regularizer, **kwargs)\n"
     ]
    }
   ],
   "source": [
    "# Create a Keras leyered model. Use initial hyperparameters: 4, 16, 18, softmax\n",
    "\n",
    "epochs = 4\n",
    "batch_size = 16\n",
    "n_hidden = 18\n",
    "\n",
    "timesteps = len(X_train[0])\n",
    "input_dim = len(X_train[0][0])\n",
    "n_classes = len(y_train[0])\n",
    "\n",
    "model = Sequential()\n",
    "model.add(Conv1D(n_hidden, kernel_size=2, activation='relu', input_shape=(timesteps, input_dim)))\n",
    "model.add(Dense(16, activation='relu'))\n",
    "model.add(MaxPooling1D())\n",
    "model.add(Flatten())\n",
    "model.add(Dense(n_classes, activation='softmax')) #sigmoid"
   ]
  },
  {
   "cell_type": "code",
   "execution_count": 16,
   "id": "0ac26a14",
   "metadata": {},
   "outputs": [],
   "source": [
    "model.compile(loss='categorical_crossentropy', optimizer='adam', metrics=['accuracy'])"
   ]
  },
  {
   "cell_type": "code",
   "execution_count": 17,
   "id": "6a1a5a21",
   "metadata": {},
   "outputs": [
    {
     "name": "stdout",
     "output_type": "stream",
     "text": [
      "Epoch 1/4\n",
      "1148/1148 - 2s - 2ms/step - accuracy: 0.1338 - loss: 2905.3079\n",
      "Epoch 2/4\n",
      "1148/1148 - 1s - 1ms/step - accuracy: 0.1327 - loss: 29161.4727\n",
      "Epoch 3/4\n",
      "1148/1148 - 1s - 1ms/step - accuracy: 0.1286 - loss: 99541.4531\n",
      "Epoch 4/4\n",
      "1148/1148 - 1s - 1ms/step - accuracy: 0.1276 - loss: 217126.2344\n"
     ]
    },
    {
     "data": {
      "text/plain": [
       "<keras.src.callbacks.history.History at 0x14edba450>"
      ]
     },
     "execution_count": 17,
     "metadata": {},
     "output_type": "execute_result"
    }
   ],
   "source": [
    "model.fit(X_train, y_train, batch_size=batch_size, epochs=epochs, verbose=2)\n"
   ]
  },
  {
   "cell_type": "code",
   "execution_count": 18,
   "id": "e2083a9d",
   "metadata": {},
   "outputs": [],
   "source": [
    "# Create confusion matrix\n",
    "def confusion_matrix(y_true, y_pred):\n",
    "    y_true = pd.Series([stations[y] for y in np.argmax(y_true, axis=1)])\n",
    "    y_pred = pd.Series([stations[y] for y in np.argmax(y_pred, axis=1)])\n",
    "\n",
    "    return pd.crosstab(y_true, y_pred, rownames=['True'], colnames=['Pred'])"
   ]
  },
  {
   "cell_type": "code",
   "execution_count": 19,
   "id": "41a7b0db",
   "metadata": {},
   "outputs": [
    {
     "name": "stdout",
     "output_type": "stream",
     "text": [
      "\u001b[1m144/144\u001b[0m \u001b[32m━━━━━━━━━━━━━━━━━━━━\u001b[0m\u001b[37m\u001b[0m \u001b[1m0s\u001b[0m 1ms/step  \n",
      "Pred        BELGRADE  BUDAPEST  DEBILT  HEATHROW  KASSEL  LJUBLJANA  \\\n",
      "True                                                                  \n",
      "BASEL              2      1748      76       130     228         45   \n",
      "BELGRADE           0       793       0         0       6          0   \n",
      "BUDAPEST           0       133       0         0       0          0   \n",
      "DEBILT             0        43       0         0       0          0   \n",
      "DUSSELDORF         0        23       0         0       0          0   \n",
      "HEATHROW           0        65       0         0       0          0   \n",
      "KASSEL             0         6       0         0       0          0   \n",
      "LJUBLJANA          0        41       0         0       0          0   \n",
      "MAASTRICHT         0         4       0         0       1          0   \n",
      "MADRID             0       213       0         3       3          2   \n",
      "MUNCHENB           0         6       0         0       0          0   \n",
      "OSLO               0         1       0         0       0          0   \n",
      "STOCKHOLM          0         2       0         0       0          0   \n",
      "VALENTIA           0         2       0         0       0          0   \n",
      "\n",
      "Pred        MAASTRICHT  MADRID  MUNCHENB  OSLO  SONNBLICK  STOCKHOLM  VALENTIA  \n",
      "True                                                                            \n",
      "BASEL              213     128         2   140         11        181        28  \n",
      "BELGRADE            15       4         1    73          0          9         0  \n",
      "BUDAPEST             3       0         0    26          0          5         0  \n",
      "DEBILT               4       1         0     9          0          4         0  \n",
      "DUSSELDORF           1       0         0     2          0          0         0  \n",
      "HEATHROW             0       4         0     7          0          4         0  \n",
      "KASSEL               0       0         0     1          0          0         0  \n",
      "LJUBLJANA            1       0         0     2          0          0         0  \n",
      "MAASTRICHT           2       0         0     0          0          0         0  \n",
      "MADRID              15      87         0    21          0          6         0  \n",
      "MUNCHENB             0       0         0     0          0          0         0  \n",
      "OSLO                 0       0         0     2          0          1         0  \n",
      "STOCKHOLM            0       0         0     0          0          0         0  \n",
      "VALENTIA             0       0         0     1          0          0         0  \n"
     ]
    }
   ],
   "source": [
    "#Evaluate\n",
    "print(confusion_matrix(y_test, model.predict(X_test)))"
   ]
  },
  {
   "cell_type": "code",
   "execution_count": 20,
   "id": "eac3924d",
   "metadata": {
    "scrolled": true
   },
   "outputs": [
    {
     "name": "stderr",
     "output_type": "stream",
     "text": [
      "/Users/shaquillelee/anaconda3/lib/python3.11/site-packages/keras/src/layers/convolutional/base_conv.py:107: UserWarning: Do not pass an `input_shape`/`input_dim` argument to a layer. When using Sequential models, prefer using an `Input(shape)` object as the first layer in the model instead.\n",
      "  super().__init__(activity_regularizer=activity_regularizer, **kwargs)\n"
     ]
    }
   ],
   "source": [
    "# Create a Keras leyered model. Use initial hyperparameters: 16, 18, 18, softmax\n",
    "\n",
    "epochs = 16\n",
    "batch_size = 18\n",
    "n_hidden = 32\n",
    "\n",
    "timesteps = len(X_train[0])\n",
    "input_dim = len(X_train[0][0])\n",
    "n_classes = len(y_train[0])\n",
    "\n",
    "model = Sequential()\n",
    "model.add(Conv1D(n_hidden, kernel_size=2, activation='relu', input_shape=(timesteps, input_dim)))\n",
    "model.add(Dense(16, activation='relu'))\n",
    "model.add(MaxPooling1D())\n",
    "model.add(Flatten())\n",
    "model.add(Dense(n_classes, activation='softmax')) #softmax"
   ]
  },
  {
   "cell_type": "code",
   "execution_count": 21,
   "id": "f37925fe",
   "metadata": {},
   "outputs": [],
   "source": [
    "model.compile(loss='categorical_crossentropy', optimizer='adam', metrics=['accuracy'])"
   ]
  },
  {
   "cell_type": "code",
   "execution_count": 22,
   "id": "be78af70",
   "metadata": {
    "scrolled": false
   },
   "outputs": [
    {
     "name": "stdout",
     "output_type": "stream",
     "text": [
      "Epoch 1/16\n",
      "1020/1020 - 2s - 2ms/step - accuracy: 0.1505 - loss: 2735.6116\n",
      "Epoch 2/16\n",
      "1020/1020 - 1s - 1ms/step - accuracy: 0.1474 - loss: 28712.2832\n",
      "Epoch 3/16\n",
      "1020/1020 - 1s - 1ms/step - accuracy: 0.1356 - loss: 93502.1094\n",
      "Epoch 4/16\n",
      "1020/1020 - 1s - 1ms/step - accuracy: 0.1307 - loss: 206251.5000\n",
      "Epoch 5/16\n",
      "1020/1020 - 1s - 1ms/step - accuracy: 0.1246 - loss: 372521.1562\n",
      "Epoch 6/16\n",
      "1020/1020 - 1s - 1ms/step - accuracy: 0.1242 - loss: 602205.2500\n",
      "Epoch 7/16\n",
      "1020/1020 - 1s - 1ms/step - accuracy: 0.1221 - loss: 881861.5000\n",
      "Epoch 8/16\n",
      "1020/1020 - 1s - 1ms/step - accuracy: 0.1213 - loss: 1231991.2500\n",
      "Epoch 9/16\n",
      "1020/1020 - 1s - 1ms/step - accuracy: 0.1203 - loss: 1675809.8750\n",
      "Epoch 10/16\n",
      "1020/1020 - 1s - 1ms/step - accuracy: 0.1192 - loss: 2185532.2500\n",
      "Epoch 11/16\n",
      "1020/1020 - 1s - 1ms/step - accuracy: 0.1168 - loss: 2789798.2500\n",
      "Epoch 12/16\n",
      "1020/1020 - 1s - 1ms/step - accuracy: 0.1187 - loss: 3488867.0000\n",
      "Epoch 13/16\n",
      "1020/1020 - 1s - 1ms/step - accuracy: 0.1189 - loss: 4256197.0000\n",
      "Epoch 14/16\n",
      "1020/1020 - 1s - 1ms/step - accuracy: 0.1178 - loss: 5114514.5000\n",
      "Epoch 15/16\n",
      "1020/1020 - 1s - 1ms/step - accuracy: 0.1164 - loss: 6123944.5000\n",
      "Epoch 16/16\n",
      "1020/1020 - 1s - 1ms/step - accuracy: 0.1163 - loss: 7216514.5000\n"
     ]
    },
    {
     "data": {
      "text/plain": [
       "<keras.src.callbacks.history.History at 0x14eeafb90>"
      ]
     },
     "execution_count": 22,
     "metadata": {},
     "output_type": "execute_result"
    }
   ],
   "source": [
    "model.fit(X_train, y_train, batch_size=batch_size, epochs=epochs, verbose=2)"
   ]
  },
  {
   "cell_type": "code",
   "execution_count": 23,
   "id": "00f2d788",
   "metadata": {},
   "outputs": [],
   "source": [
    "# Create confusion matrix\n",
    "def confusion_matrix(y_true, y_pred):\n",
    "    y_true = pd.Series([stations[y] for y in np.argmax(y_true, axis=1)])\n",
    "    y_pred = pd.Series([stations[y] for y in np.argmax(y_pred, axis=1)])\n",
    "\n",
    "    return pd.crosstab(y_true, y_pred, rownames=['True'], colnames=['Pred'])"
   ]
  },
  {
   "cell_type": "code",
   "execution_count": 24,
   "id": "62ce2afe",
   "metadata": {
    "scrolled": true
   },
   "outputs": [
    {
     "name": "stdout",
     "output_type": "stream",
     "text": [
      "\u001b[1m144/144\u001b[0m \u001b[32m━━━━━━━━━━━━━━━━━━━━\u001b[0m\u001b[37m\u001b[0m \u001b[1m0s\u001b[0m 1ms/step  \n",
      "Pred        BASEL  BELGRADE  BUDAPEST  DEBILT  DUSSELDORF  HEATHROW  KASSEL  \\\n",
      "True                                                                          \n",
      "BASEL         180       165       742     187         710         1      79   \n",
      "BELGRADE        1        38       479      24         296         0       7   \n",
      "BUDAPEST        0         0        70       8          76         0       3   \n",
      "DEBILT          0         0        23       5          23         0       5   \n",
      "DUSSELDORF      0         0         8       2          13         0       1   \n",
      "HEATHROW        1         0        18       8          40         0       5   \n",
      "KASSEL          0         0         0       1           6         0       0   \n",
      "LJUBLJANA       0         0        17       1          13         0       4   \n",
      "MAASTRICHT      0         0         3       0           3         0       0   \n",
      "MADRID         20        16        92       9          92         0      12   \n",
      "MUNCHENB        0         0         3       0           2         0       0   \n",
      "OSLO            0         0         4       0           0         0       0   \n",
      "STOCKHOLM       0         0         1       0           1         0       0   \n",
      "VALENTIA        0         0         2       0           1         0       0   \n",
      "\n",
      "Pred        LJUBLJANA  MAASTRICHT  MADRID  MUNCHENB  OSLO  SONNBLICK  \\\n",
      "True                                                                   \n",
      "BASEL             620           2      37       110     2          2   \n",
      "BELGRADE           30           0       0         8     0          0   \n",
      "BUDAPEST            4           0       0         1     0          0   \n",
      "DEBILT              1           0       0         1     0          0   \n",
      "DUSSELDORF          0           0       0         0     0          0   \n",
      "HEATHROW            4           0       0         0     0          0   \n",
      "KASSEL              0           0       0         0     0          0   \n",
      "LJUBLJANA           8           0       0         0     0          0   \n",
      "MAASTRICHT          1           0       0         0     0          0   \n",
      "MADRID             78           0      21         1     0          0   \n",
      "MUNCHENB            0           0       0         1     0          0   \n",
      "OSLO                0           0       0         0     0          0   \n",
      "STOCKHOLM           0           0       0         0     0          0   \n",
      "VALENTIA            0           0       0         0     0          0   \n",
      "\n",
      "Pred        STOCKHOLM  VALENTIA  \n",
      "True                             \n",
      "BASEL              71        24  \n",
      "BELGRADE           18         0  \n",
      "BUDAPEST            5         0  \n",
      "DEBILT              3         0  \n",
      "DUSSELDORF          2         0  \n",
      "HEATHROW            4         0  \n",
      "KASSEL              0         0  \n",
      "LJUBLJANA           1         0  \n",
      "MAASTRICHT          0         0  \n",
      "MADRID              9         0  \n",
      "MUNCHENB            0         0  \n",
      "OSLO                0         0  \n",
      "STOCKHOLM           0         0  \n",
      "VALENTIA            0         0  \n"
     ]
    }
   ],
   "source": [
    "#Evaluate\n",
    "print(confusion_matrix(y_test, model.predict(X_test)))"
   ]
  },
  {
   "cell_type": "code",
   "execution_count": 25,
   "id": "2936f50a",
   "metadata": {},
   "outputs": [
    {
     "name": "stderr",
     "output_type": "stream",
     "text": [
      "/Users/shaquillelee/anaconda3/lib/python3.11/site-packages/keras/src/layers/convolutional/base_conv.py:107: UserWarning: Do not pass an `input_shape`/`input_dim` argument to a layer. When using Sequential models, prefer using an `Input(shape)` object as the first layer in the model instead.\n",
      "  super().__init__(activity_regularizer=activity_regularizer, **kwargs)\n"
     ]
    }
   ],
   "source": [
    "# Create a Keras leyered model. Use initial hyperparameters: 16, 18, 18, softtmax\n",
    "\n",
    "epochs = 30 \n",
    "batch_size = 32\n",
    "n_hidden = 64\n",
    "\n",
    "timesteps = len(X_train[0])\n",
    "input_dim = len(X_train[0][0])\n",
    "n_classes = len(y_train[0])\n",
    "\n",
    "model = Sequential()\n",
    "model.add(Conv1D(n_hidden, kernel_size=2, activation='relu', input_shape=(timesteps, input_dim)))\n",
    "model.add(Dense(16, activation='relu'))\n",
    "model.add(MaxPooling1D())\n",
    "model.add(Flatten())\n",
    "model.add(Dense(n_classes, activation='softmax')) #softmax"
   ]
  },
  {
   "cell_type": "code",
   "execution_count": 26,
   "id": "5b5cab7b",
   "metadata": {},
   "outputs": [],
   "source": [
    "model.compile(loss='categorical_crossentropy', optimizer='adam', metrics=['accuracy'])"
   ]
  },
  {
   "cell_type": "code",
   "execution_count": 27,
   "id": "ef8304af",
   "metadata": {
    "scrolled": false
   },
   "outputs": [
    {
     "name": "stdout",
     "output_type": "stream",
     "text": [
      "Epoch 1/30\n",
      "574/574 - 1s - 2ms/step - accuracy: 0.0830 - loss: 1833.6627\n",
      "Epoch 2/30\n",
      "574/574 - 1s - 987us/step - accuracy: 0.0997 - loss: 19545.0859\n",
      "Epoch 3/30\n",
      "574/574 - 1s - 1ms/step - accuracy: 0.1054 - loss: 69490.7734\n",
      "Epoch 4/30\n",
      "574/574 - 1s - 1ms/step - accuracy: 0.1133 - loss: 156529.2500\n",
      "Epoch 5/30\n",
      "574/574 - 1s - 999us/step - accuracy: 0.1189 - loss: 282540.3438\n",
      "Epoch 6/30\n",
      "574/574 - 1s - 985us/step - accuracy: 0.1197 - loss: 457073.1250\n",
      "Epoch 7/30\n",
      "574/574 - 1s - 1ms/step - accuracy: 0.1197 - loss: 678557.0000\n",
      "Epoch 8/30\n",
      "574/574 - 1s - 990us/step - accuracy: 0.1218 - loss: 950489.6250\n",
      "Epoch 9/30\n",
      "574/574 - 1s - 987us/step - accuracy: 0.1194 - loss: 1255936.5000\n",
      "Epoch 10/30\n",
      "574/574 - 1s - 996us/step - accuracy: 0.1178 - loss: 1622980.2500\n",
      "Epoch 11/30\n",
      "574/574 - 1s - 984us/step - accuracy: 0.1196 - loss: 2052551.3750\n",
      "Epoch 12/30\n",
      "574/574 - 1s - 995us/step - accuracy: 0.1198 - loss: 2530276.2500\n",
      "Epoch 13/30\n",
      "574/574 - 1s - 988us/step - accuracy: 0.1198 - loss: 3037934.7500\n",
      "Epoch 14/30\n",
      "574/574 - 1s - 984us/step - accuracy: 0.1188 - loss: 3622643.5000\n",
      "Epoch 15/30\n",
      "574/574 - 1s - 984us/step - accuracy: 0.1215 - loss: 4295341.0000\n",
      "Epoch 16/30\n",
      "574/574 - 1s - 985us/step - accuracy: 0.1193 - loss: 4949690.5000\n",
      "Epoch 17/30\n",
      "574/574 - 1s - 981us/step - accuracy: 0.1200 - loss: 5740157.5000\n",
      "Epoch 18/30\n",
      "574/574 - 1s - 1ms/step - accuracy: 0.1227 - loss: 6525202.5000\n",
      "Epoch 19/30\n",
      "574/574 - 1s - 991us/step - accuracy: 0.1194 - loss: 7378464.5000\n",
      "Epoch 20/30\n",
      "574/574 - 1s - 981us/step - accuracy: 0.1184 - loss: 8393599.0000\n",
      "Epoch 21/30\n",
      "574/574 - 1s - 999us/step - accuracy: 0.1194 - loss: 9377625.0000\n",
      "Epoch 22/30\n",
      "574/574 - 1s - 1ms/step - accuracy: 0.1176 - loss: 10501600.0000\n",
      "Epoch 23/30\n",
      "574/574 - 1s - 1ms/step - accuracy: 0.1185 - loss: 11773572.0000\n",
      "Epoch 24/30\n",
      "574/574 - 1s - 1ms/step - accuracy: 0.1150 - loss: 13020223.0000\n",
      "Epoch 25/30\n",
      "574/574 - 1s - 983us/step - accuracy: 0.1148 - loss: 14203022.0000\n",
      "Epoch 26/30\n",
      "574/574 - 1s - 986us/step - accuracy: 0.1176 - loss: 15640049.0000\n",
      "Epoch 27/30\n",
      "574/574 - 1s - 991us/step - accuracy: 0.1178 - loss: 17205832.0000\n",
      "Epoch 28/30\n",
      "574/574 - 1s - 1ms/step - accuracy: 0.1172 - loss: 18748850.0000\n",
      "Epoch 29/30\n",
      "574/574 - 1s - 1ms/step - accuracy: 0.1190 - loss: 20303252.0000\n",
      "Epoch 30/30\n",
      "574/574 - 1s - 984us/step - accuracy: 0.1133 - loss: 22012298.0000\n"
     ]
    },
    {
     "data": {
      "text/plain": [
       "<keras.src.callbacks.history.History at 0x14f60a290>"
      ]
     },
     "execution_count": 27,
     "metadata": {},
     "output_type": "execute_result"
    }
   ],
   "source": [
    "model.fit(X_train, y_train, batch_size=batch_size, epochs=epochs, verbose=2)"
   ]
  },
  {
   "cell_type": "code",
   "execution_count": 28,
   "id": "c638fbd6",
   "metadata": {},
   "outputs": [],
   "source": [
    "# Create confusion matrix\n",
    "def confusion_matrix(y_true, y_pred):\n",
    "    y_true = pd.Series([stations[y] for y in np.argmax(y_true, axis=1)])\n",
    "    y_pred = pd.Series([stations[y] for y in np.argmax(y_pred, axis=1)])\n",
    "\n",
    "    return pd.crosstab(y_true, y_pred, rownames=['True'], colnames=['Pred'])"
   ]
  },
  {
   "cell_type": "code",
   "execution_count": 29,
   "id": "ef99f6f7",
   "metadata": {
    "scrolled": true
   },
   "outputs": [
    {
     "name": "stdout",
     "output_type": "stream",
     "text": [
      "\u001b[1m144/144\u001b[0m \u001b[32m━━━━━━━━━━━━━━━━━━━━\u001b[0m\u001b[37m\u001b[0m \u001b[1m0s\u001b[0m 1ms/step\n",
      "Pred        BASEL  BELGRADE  BUDAPEST  DEBILT  DUSSELDORF  HEATHROW  KASSEL  \\\n",
      "True                                                                          \n",
      "BASEL          73       624        54      14         118       465      71   \n",
      "BELGRADE        0       392         0       0          30       104       4   \n",
      "BUDAPEST        0        58         0       0           8        25       1   \n",
      "DEBILT          0        22         0       0           6        20       2   \n",
      "DUSSELDORF      0         6         0       0           2        11       0   \n",
      "HEATHROW        0         9         0       0           0        27       1   \n",
      "KASSEL          0         0         0       0           1         1       0   \n",
      "LJUBLJANA       0         5         0       0           0         7       0   \n",
      "MAASTRICHT      0         2         0       0           1         1       0   \n",
      "MADRID          0        38         1       0           7        92       8   \n",
      "MUNCHENB        0         4         0       0           1         0       0   \n",
      "OSLO            0         1         0       0           0         0       1   \n",
      "STOCKHOLM       0         1         0       0           0         1       0   \n",
      "VALENTIA        0         1         0       0           0         2       0   \n",
      "\n",
      "Pred        LJUBLJANA  MAASTRICHT  MADRID  MUNCHENB  OSLO  SONNBLICK  \\\n",
      "True                                                                   \n",
      "BASEL             176         115     662       479    13          3   \n",
      "BELGRADE           45           0     241        80     0          0   \n",
      "BUDAPEST           14           0      50         8     1          0   \n",
      "DEBILT              2           0       6         1     0          0   \n",
      "DUSSELDORF          2           0       4         1     0          0   \n",
      "HEATHROW            7           0      32         2     0          0   \n",
      "KASSEL              0           0       3         2     0          0   \n",
      "LJUBLJANA          14           0      14         4     0          0   \n",
      "MAASTRICHT          1           0       1         1     0          0   \n",
      "MADRID             30           0     141        25     2          0   \n",
      "MUNCHENB            1           0       0         0     0          0   \n",
      "OSLO                0           0       2         0     0          0   \n",
      "STOCKHOLM           0           0       0         0     0          0   \n",
      "VALENTIA            0           0       0         0     0          0   \n",
      "\n",
      "Pred        STOCKHOLM  VALENTIA  \n",
      "True                             \n",
      "BASEL              44        21  \n",
      "BELGRADE            5         0  \n",
      "BUDAPEST            2         0  \n",
      "DEBILT              2         0  \n",
      "DUSSELDORF          0         0  \n",
      "HEATHROW            2         0  \n",
      "KASSEL              0         0  \n",
      "LJUBLJANA           0         0  \n",
      "MAASTRICHT          0         0  \n",
      "MADRID              6         0  \n",
      "MUNCHENB            0         0  \n",
      "OSLO                0         0  \n",
      "STOCKHOLM           0         0  \n",
      "VALENTIA            0         0  \n"
     ]
    }
   ],
   "source": [
    "#Evaluate\n",
    "print(confusion_matrix(y_test, model.predict(X_test)))"
   ]
  },
  {
   "cell_type": "code",
   "execution_count": 40,
   "id": "788a186e",
   "metadata": {},
   "outputs": [
    {
     "name": "stderr",
     "output_type": "stream",
     "text": [
      "/Users/shaquillelee/anaconda3/lib/python3.11/site-packages/keras/src/layers/convolutional/base_conv.py:107: UserWarning: Do not pass an `input_shape`/`input_dim` argument to a layer. When using Sequential models, prefer using an `Input(shape)` object as the first layer in the model instead.\n",
      "  super().__init__(activity_regularizer=activity_regularizer, **kwargs)\n"
     ]
    }
   ],
   "source": [
    "# Create a Keras leyered model. Use initial hyperparameters: 30, 32, 124, softtmax\n",
    "\n",
    "epochs = 30 \n",
    "batch_size = 32\n",
    "n_hidden = 124\n",
    "\n",
    "timesteps = len(X_train[0])\n",
    "input_dim = len(X_train[0][0])\n",
    "n_classes = len(y_train[0])\n",
    "\n",
    "model = Sequential()\n",
    "model.add(Conv1D(n_hidden, kernel_size=2, activation='relu', input_shape=(timesteps, input_dim)))\n",
    "model.add(Dense(16, activation='relu'))\n",
    "model.add(MaxPooling1D())\n",
    "model.add(Flatten())\n",
    "model.add(Dense(n_classes, activation='softmax')) #softmax"
   ]
  },
  {
   "cell_type": "code",
   "execution_count": 41,
   "id": "9e5fe353",
   "metadata": {},
   "outputs": [],
   "source": [
    "model.compile(loss='categorical_crossentropy', optimizer='adam', metrics=['accuracy'])"
   ]
  },
  {
   "cell_type": "code",
   "execution_count": 42,
   "id": "a3fc2292",
   "metadata": {},
   "outputs": [
    {
     "name": "stdout",
     "output_type": "stream",
     "text": [
      "Epoch 1/30\n",
      "574/574 - 2s - 3ms/step - accuracy: 0.1122 - loss: 3322.4768\n",
      "Epoch 2/30\n",
      "574/574 - 1s - 1ms/step - accuracy: 0.1092 - loss: 28904.5176\n",
      "Epoch 3/30\n",
      "574/574 - 1s - 1ms/step - accuracy: 0.1135 - loss: 98123.7734\n",
      "Epoch 4/30\n",
      "574/574 - 1s - 1ms/step - accuracy: 0.1121 - loss: 222794.7344\n",
      "Epoch 5/30\n",
      "574/574 - 1s - 1ms/step - accuracy: 0.1141 - loss: 410069.5938\n",
      "Epoch 6/30\n",
      "574/574 - 1s - 1ms/step - accuracy: 0.1163 - loss: 655449.1250\n",
      "Epoch 7/30\n",
      "574/574 - 1s - 1ms/step - accuracy: 0.1168 - loss: 940525.8125\n",
      "Epoch 8/30\n",
      "574/574 - 1s - 1ms/step - accuracy: 0.1156 - loss: 1340234.1250\n",
      "Epoch 9/30\n",
      "574/574 - 1s - 1ms/step - accuracy: 0.1181 - loss: 1748423.5000\n",
      "Epoch 10/30\n",
      "574/574 - 1s - 1ms/step - accuracy: 0.1207 - loss: 2288331.7500\n",
      "Epoch 11/30\n",
      "574/574 - 1s - 1ms/step - accuracy: 0.1216 - loss: 2831586.5000\n",
      "Epoch 12/30\n",
      "574/574 - 1s - 1ms/step - accuracy: 0.1241 - loss: 3477688.0000\n",
      "Epoch 13/30\n",
      "574/574 - 1s - 1ms/step - accuracy: 0.1247 - loss: 4270880.5000\n",
      "Epoch 14/30\n",
      "574/574 - 1s - 1ms/step - accuracy: 0.1194 - loss: 5063831.0000\n",
      "Epoch 15/30\n",
      "574/574 - 1s - 1ms/step - accuracy: 0.1204 - loss: 5912756.5000\n",
      "Epoch 16/30\n",
      "574/574 - 1s - 1ms/step - accuracy: 0.1223 - loss: 6972762.0000\n",
      "Epoch 17/30\n",
      "574/574 - 1s - 1ms/step - accuracy: 0.1271 - loss: 8045972.5000\n",
      "Epoch 18/30\n",
      "574/574 - 1s - 1ms/step - accuracy: 0.1256 - loss: 9142060.0000\n",
      "Epoch 19/30\n",
      "574/574 - 1s - 1ms/step - accuracy: 0.1254 - loss: 10471365.0000\n",
      "Epoch 20/30\n",
      "574/574 - 1s - 1ms/step - accuracy: 0.1259 - loss: 11748533.0000\n",
      "Epoch 21/30\n",
      "574/574 - 1s - 1ms/step - accuracy: 0.1204 - loss: 13204114.0000\n",
      "Epoch 22/30\n",
      "574/574 - 1s - 1ms/step - accuracy: 0.1226 - loss: 14752302.0000\n",
      "Epoch 23/30\n",
      "574/574 - 1s - 1ms/step - accuracy: 0.1211 - loss: 16408173.0000\n",
      "Epoch 24/30\n",
      "574/574 - 1s - 1ms/step - accuracy: 0.1192 - loss: 18075764.0000\n",
      "Epoch 25/30\n",
      "574/574 - 1s - 1ms/step - accuracy: 0.1179 - loss: 19963706.0000\n",
      "Epoch 26/30\n",
      "574/574 - 1s - 1ms/step - accuracy: 0.1209 - loss: 21850274.0000\n",
      "Epoch 27/30\n",
      "574/574 - 1s - 1ms/step - accuracy: 0.1153 - loss: 24054456.0000\n",
      "Epoch 28/30\n",
      "574/574 - 1s - 1ms/step - accuracy: 0.1162 - loss: 26270816.0000\n",
      "Epoch 29/30\n",
      "574/574 - 1s - 1ms/step - accuracy: 0.1191 - loss: 28510532.0000\n",
      "Epoch 30/30\n",
      "574/574 - 1s - 1ms/step - accuracy: 0.1158 - loss: 31055964.0000\n"
     ]
    },
    {
     "data": {
      "text/plain": [
       "<keras.src.callbacks.history.History at 0x14fddefd0>"
      ]
     },
     "execution_count": 42,
     "metadata": {},
     "output_type": "execute_result"
    }
   ],
   "source": [
    "model.fit(X_train, y_train, batch_size=batch_size, epochs=epochs, verbose=2)"
   ]
  },
  {
   "cell_type": "code",
   "execution_count": 43,
   "id": "8097f25a",
   "metadata": {},
   "outputs": [],
   "source": [
    "# Create confusion matrix\n",
    "def confusion_matrix(y_true, y_pred):\n",
    "    y_true = pd.Series([stations[y] for y in np.argmax(y_true, axis=1)])\n",
    "    y_pred = pd.Series([stations[y] for y in np.argmax(y_pred, axis=1)])\n",
    "\n",
    "    return pd.crosstab(y_true, y_pred, rownames=['True'], colnames=['Pred'])"
   ]
  },
  {
   "cell_type": "code",
   "execution_count": 44,
   "id": "21041495",
   "metadata": {},
   "outputs": [
    {
     "name": "stdout",
     "output_type": "stream",
     "text": [
      "\u001b[1m144/144\u001b[0m \u001b[32m━━━━━━━━━━━━━━━━━━━━\u001b[0m\u001b[37m\u001b[0m \u001b[1m0s\u001b[0m 1ms/step\n",
      "Pred        BASEL  BELGRADE  BUDAPEST  DEBILT  DUSSELDORF  HEATHROW  KASSEL  \\\n",
      "True                                                                          \n",
      "BASEL           2       570       175      76         291        17     142   \n",
      "BELGRADE        0       348         0       5          78         0      38   \n",
      "BUDAPEST        0        32         0       3          18         0      21   \n",
      "DEBILT          0        14         0       1           7         0       6   \n",
      "DUSSELDORF      0         2         0       0           6         0       1   \n",
      "HEATHROW        0         3         0       0          15         0      13   \n",
      "KASSEL          0         0         0       0           0         0       2   \n",
      "LJUBLJANA       0         6         0       0           3         0       4   \n",
      "MAASTRICHT      0         2         0       0           1         0       0   \n",
      "MADRID          0        16         0      23          35         2      28   \n",
      "MUNCHENB        0         2         0       0           0         0       0   \n",
      "OSLO            0         2         0       0           0         0       0   \n",
      "STOCKHOLM       0         0         0       0           0         0       0   \n",
      "VALENTIA        0         1         0       0           0         0       0   \n",
      "\n",
      "Pred        LJUBLJANA  MAASTRICHT  MADRID  OSLO  SONNBLICK  STOCKHOLM  \\\n",
      "True                                                                    \n",
      "BASEL             344          76    1090   107          3         16   \n",
      "BELGRADE           27           0     380    22          0          3   \n",
      "BUDAPEST            2           0      82     9          0          0   \n",
      "DEBILT              1           0      27     5          0          0   \n",
      "DUSSELDORF          1           0      15     1          0          0   \n",
      "HEATHROW            1           0      39     9          0          0   \n",
      "KASSEL              0           0       5     0          0          0   \n",
      "LJUBLJANA           4           0      24     3          0          0   \n",
      "MAASTRICHT          0           0       4     0          0          0   \n",
      "MADRID             10           0     212    24          0          0   \n",
      "MUNCHENB            0           0       4     0          0          0   \n",
      "OSLO                0           0       2     0          0          0   \n",
      "STOCKHOLM           0           0       1     1          0          0   \n",
      "VALENTIA            0           0       2     0          0          0   \n",
      "\n",
      "Pred        VALENTIA  \n",
      "True                  \n",
      "BASEL             23  \n",
      "BELGRADE           0  \n",
      "BUDAPEST           0  \n",
      "DEBILT             0  \n",
      "DUSSELDORF         0  \n",
      "HEATHROW           0  \n",
      "KASSEL             0  \n",
      "LJUBLJANA          0  \n",
      "MAASTRICHT         0  \n",
      "MADRID             0  \n",
      "MUNCHENB           0  \n",
      "OSLO               0  \n",
      "STOCKHOLM          0  \n",
      "VALENTIA           0  \n"
     ]
    }
   ],
   "source": [
    "#Evaluate\n",
    "print(confusion_matrix(y_test, model.predict(X_test)))"
   ]
  },
  {
   "cell_type": "code",
   "execution_count": 30,
   "id": "a20becad",
   "metadata": {},
   "outputs": [
    {
     "name": "stderr",
     "output_type": "stream",
     "text": [
      "/Users/shaquillelee/anaconda3/lib/python3.11/site-packages/keras/src/layers/convolutional/base_conv.py:107: UserWarning: Do not pass an `input_shape`/`input_dim` argument to a layer. When using Sequential models, prefer using an `Input(shape)` object as the first layer in the model instead.\n",
      "  super().__init__(activity_regularizer=activity_regularizer, **kwargs)\n"
     ]
    }
   ],
   "source": [
    "# Create a Keras leyered model. Use initial hyperparameters: 30, 32, 64, sigmoid\n",
    "\n",
    "epochs = 30 \n",
    "batch_size = 32\n",
    "n_hidden = 64\n",
    "\n",
    "timesteps = len(X_train[0])\n",
    "input_dim = len(X_train[0][0])\n",
    "n_classes = len(y_train[0])\n",
    "\n",
    "model = Sequential()\n",
    "model.add(Conv1D(n_hidden, kernel_size=2, activation='relu', input_shape=(timesteps, input_dim)))\n",
    "model.add(Dense(16, activation='relu'))\n",
    "model.add(MaxPooling1D())\n",
    "model.add(Flatten())\n",
    "model.add(Dense(n_classes, activation='sigmoid')) #sigmoid"
   ]
  },
  {
   "cell_type": "code",
   "execution_count": 31,
   "id": "190af731",
   "metadata": {},
   "outputs": [],
   "source": [
    "model.compile(loss='categorical_crossentropy', optimizer='adam', metrics=['accuracy'])"
   ]
  },
  {
   "cell_type": "code",
   "execution_count": 32,
   "id": "bd73ad28",
   "metadata": {
    "scrolled": false
   },
   "outputs": [
    {
     "name": "stdout",
     "output_type": "stream",
     "text": [
      "Epoch 1/30\n",
      "574/574 - 1s - 2ms/step - accuracy: 0.1200 - loss: 2645.5669\n",
      "Epoch 2/30\n",
      "574/574 - 1s - 1ms/step - accuracy: 0.1242 - loss: 21707.7676\n",
      "Epoch 3/30\n",
      "574/574 - 1s - 1ms/step - accuracy: 0.1285 - loss: 75708.0625\n",
      "Epoch 4/30\n",
      "574/574 - 1s - 1000us/step - accuracy: 0.1275 - loss: 170893.7031\n",
      "Epoch 5/30\n",
      "574/574 - 1s - 998us/step - accuracy: 0.1295 - loss: 305412.1875\n",
      "Epoch 6/30\n",
      "574/574 - 1s - 998us/step - accuracy: 0.1229 - loss: 497042.5625\n",
      "Epoch 7/30\n",
      "574/574 - 1s - 999us/step - accuracy: 0.1191 - loss: 711435.9375\n",
      "Epoch 8/30\n",
      "574/574 - 1s - 994us/step - accuracy: 0.1156 - loss: 992860.5625\n",
      "Epoch 9/30\n",
      "574/574 - 1s - 1ms/step - accuracy: 0.1169 - loss: 1265921.0000\n",
      "Epoch 10/30\n",
      "574/574 - 1s - 997us/step - accuracy: 0.1188 - loss: 1586082.5000\n",
      "Epoch 11/30\n",
      "574/574 - 1s - 997us/step - accuracy: 0.1198 - loss: 1938110.5000\n",
      "Epoch 12/30\n",
      "574/574 - 1s - 994us/step - accuracy: 0.1185 - loss: 2345224.2500\n",
      "Epoch 13/30\n",
      "574/574 - 1s - 996us/step - accuracy: 0.1190 - loss: 2749960.5000\n",
      "Epoch 14/30\n",
      "574/574 - 1s - 995us/step - accuracy: 0.1223 - loss: 3241985.0000\n",
      "Epoch 15/30\n",
      "574/574 - 1s - 995us/step - accuracy: 0.1230 - loss: 3755856.2500\n",
      "Epoch 16/30\n",
      "574/574 - 1s - 1ms/step - accuracy: 0.1209 - loss: 4352883.5000\n",
      "Epoch 17/30\n",
      "574/574 - 1s - 993us/step - accuracy: 0.1230 - loss: 4877201.5000\n",
      "Epoch 18/30\n",
      "574/574 - 1s - 995us/step - accuracy: 0.1226 - loss: 5590535.5000\n",
      "Epoch 19/30\n",
      "574/574 - 1s - 1ms/step - accuracy: 0.1225 - loss: 6262033.0000\n",
      "Epoch 20/30\n",
      "574/574 - 1s - 996us/step - accuracy: 0.1257 - loss: 7069812.0000\n",
      "Epoch 21/30\n",
      "574/574 - 1s - 1ms/step - accuracy: 0.1188 - loss: 7771192.5000\n",
      "Epoch 22/30\n",
      "574/574 - 1s - 1ms/step - accuracy: 0.1300 - loss: 8645855.0000\n",
      "Epoch 23/30\n",
      "574/574 - 1s - 1ms/step - accuracy: 0.1242 - loss: 9539152.0000\n",
      "Epoch 24/30\n",
      "574/574 - 1s - 1ms/step - accuracy: 0.1221 - loss: 10461393.0000\n",
      "Epoch 25/30\n",
      "574/574 - 1s - 1ms/step - accuracy: 0.1194 - loss: 11503179.0000\n",
      "Epoch 26/30\n",
      "574/574 - 1s - 1ms/step - accuracy: 0.1241 - loss: 12544472.0000\n",
      "Epoch 27/30\n",
      "574/574 - 1s - 1ms/step - accuracy: 0.1219 - loss: 13644851.0000\n",
      "Epoch 28/30\n",
      "574/574 - 1s - 1ms/step - accuracy: 0.1211 - loss: 14841048.0000\n",
      "Epoch 29/30\n",
      "574/574 - 1s - 1ms/step - accuracy: 0.1223 - loss: 16150755.0000\n",
      "Epoch 30/30\n",
      "574/574 - 1s - 1ms/step - accuracy: 0.1224 - loss: 17394318.0000\n"
     ]
    },
    {
     "data": {
      "text/plain": [
       "<keras.src.callbacks.history.History at 0x14f842290>"
      ]
     },
     "execution_count": 32,
     "metadata": {},
     "output_type": "execute_result"
    }
   ],
   "source": [
    "model.fit(X_train, y_train, batch_size=batch_size, epochs=epochs, verbose=2)"
   ]
  },
  {
   "cell_type": "code",
   "execution_count": 33,
   "id": "ddf69dbb",
   "metadata": {},
   "outputs": [],
   "source": [
    "# Create confusion matrix\n",
    "def confusion_matrix(y_true, y_pred):\n",
    "    y_true = pd.Series([stations[y] for y in np.argmax(y_true, axis=1)])\n",
    "    y_pred = pd.Series([stations[y] for y in np.argmax(y_pred, axis=1)])\n",
    "\n",
    "    return pd.crosstab(y_true, y_pred, rownames=['True'], colnames=['Pred'])"
   ]
  },
  {
   "cell_type": "code",
   "execution_count": 34,
   "id": "99c33963",
   "metadata": {
    "scrolled": true
   },
   "outputs": [
    {
     "name": "stdout",
     "output_type": "stream",
     "text": [
      "\u001b[1m144/144\u001b[0m \u001b[32m━━━━━━━━━━━━━━━━━━━━\u001b[0m\u001b[37m\u001b[0m \u001b[1m0s\u001b[0m 1ms/step\n",
      "Pred        BASEL\n",
      "True             \n",
      "BASEL        2932\n",
      "BELGRADE      901\n",
      "BUDAPEST      167\n",
      "DEBILT         61\n",
      "DUSSELDORF     26\n",
      "HEATHROW       80\n",
      "KASSEL          7\n",
      "LJUBLJANA      44\n",
      "MAASTRICHT      7\n",
      "MADRID        350\n",
      "MUNCHENB        6\n",
      "OSLO            4\n",
      "STOCKHOLM       2\n",
      "VALENTIA        3\n"
     ]
    }
   ],
   "source": [
    "#Evaluate\n",
    "print(confusion_matrix(y_test, model.predict(X_test)))"
   ]
  },
  {
   "cell_type": "code",
   "execution_count": 35,
   "id": "8eb402fd",
   "metadata": {},
   "outputs": [
    {
     "name": "stderr",
     "output_type": "stream",
     "text": [
      "/Users/shaquillelee/anaconda3/lib/python3.11/site-packages/keras/src/layers/convolutional/base_conv.py:107: UserWarning: Do not pass an `input_shape`/`input_dim` argument to a layer. When using Sequential models, prefer using an `Input(shape)` object as the first layer in the model instead.\n",
      "  super().__init__(activity_regularizer=activity_regularizer, **kwargs)\n"
     ]
    }
   ],
   "source": [
    "# Create a Keras leyered model. Use initial hyperparameters: 30, 32, 64, tanh\n",
    "\n",
    "epochs = 30 \n",
    "batch_size = 32\n",
    "n_hidden = 128\n",
    "\n",
    "timesteps = len(X_train[0])\n",
    "input_dim = len(X_train[0][0])\n",
    "n_classes = len(y_train[0])\n",
    "\n",
    "model = Sequential()\n",
    "model.add(Conv1D(n_hidden, kernel_size=2, activation='relu', input_shape=(timesteps, input_dim)))\n",
    "model.add(Dense(16, activation='relu'))\n",
    "model.add(MaxPooling1D())\n",
    "model.add(Flatten())\n",
    "model.add(Dense(n_classes, activation='tanh')) #tanh"
   ]
  },
  {
   "cell_type": "code",
   "execution_count": 36,
   "id": "2c8e5926",
   "metadata": {},
   "outputs": [],
   "source": [
    "model.compile(loss='categorical_crossentropy', optimizer='adam', metrics=['accuracy'])"
   ]
  },
  {
   "cell_type": "code",
   "execution_count": 37,
   "id": "09249c8c",
   "metadata": {
    "scrolled": true
   },
   "outputs": [
    {
     "name": "stdout",
     "output_type": "stream",
     "text": [
      "Epoch 1/30\n",
      "574/574 - 2s - 3ms/step - accuracy: 0.0116 - loss: 23.7871\n",
      "Epoch 2/30\n",
      "574/574 - 1s - 1ms/step - accuracy: 0.0343 - loss: 25.3027\n",
      "Epoch 3/30\n",
      "574/574 - 1s - 1ms/step - accuracy: 0.0452 - loss: 25.5835\n",
      "Epoch 4/30\n",
      "574/574 - 1s - 1ms/step - accuracy: 0.0456 - loss: 25.5835\n",
      "Epoch 5/30\n",
      "574/574 - 1s - 1ms/step - accuracy: 0.0462 - loss: 25.5835\n",
      "Epoch 6/30\n",
      "574/574 - 1s - 1ms/step - accuracy: 0.0465 - loss: 25.5835\n",
      "Epoch 7/30\n",
      "574/574 - 1s - 1ms/step - accuracy: 0.0462 - loss: 25.5835\n",
      "Epoch 8/30\n",
      "574/574 - 1s - 1ms/step - accuracy: 0.0462 - loss: 25.5835\n",
      "Epoch 9/30\n",
      "574/574 - 1s - 1ms/step - accuracy: 0.0466 - loss: 25.5835\n",
      "Epoch 10/30\n",
      "574/574 - 1s - 1ms/step - accuracy: 0.0479 - loss: 25.5502\n",
      "Epoch 11/30\n",
      "574/574 - 1s - 1ms/step - accuracy: 0.1713 - loss: 22.5864\n",
      "Epoch 12/30\n",
      "574/574 - 1s - 1ms/step - accuracy: 0.1944 - loss: 22.2396\n",
      "Epoch 13/30\n",
      "574/574 - 1s - 1ms/step - accuracy: 0.1957 - loss: 22.2388\n",
      "Epoch 14/30\n",
      "574/574 - 1s - 1ms/step - accuracy: 0.1965 - loss: 22.2388\n",
      "Epoch 15/30\n",
      "574/574 - 1s - 1ms/step - accuracy: 0.1965 - loss: 22.2388\n",
      "Epoch 16/30\n",
      "574/574 - 1s - 1ms/step - accuracy: 0.1969 - loss: 22.2388\n",
      "Epoch 17/30\n",
      "574/574 - 1s - 1ms/step - accuracy: 0.1971 - loss: 22.2388\n",
      "Epoch 18/30\n",
      "574/574 - 1s - 1ms/step - accuracy: 0.1971 - loss: 22.2388\n",
      "Epoch 19/30\n",
      "574/574 - 1s - 1ms/step - accuracy: 0.1971 - loss: 22.2388\n",
      "Epoch 20/30\n",
      "574/574 - 1s - 1ms/step - accuracy: 0.1972 - loss: 22.2388\n",
      "Epoch 21/30\n",
      "574/574 - 1s - 1ms/step - accuracy: 0.1972 - loss: 22.2396\n",
      "Epoch 22/30\n",
      "574/574 - 1s - 1ms/step - accuracy: 0.1972 - loss: 22.2396\n",
      "Epoch 23/30\n",
      "574/574 - 1s - 1ms/step - accuracy: 0.1973 - loss: 22.2396\n",
      "Epoch 24/30\n",
      "574/574 - 1s - 1ms/step - accuracy: 0.1973 - loss: 22.2396\n",
      "Epoch 25/30\n",
      "574/574 - 1s - 1ms/step - accuracy: 0.1973 - loss: 22.2396\n",
      "Epoch 26/30\n",
      "574/574 - 1s - 1ms/step - accuracy: 0.1973 - loss: 22.2396\n",
      "Epoch 27/30\n",
      "574/574 - 1s - 1ms/step - accuracy: 0.1973 - loss: 22.2396\n",
      "Epoch 28/30\n",
      "574/574 - 1s - 1ms/step - accuracy: 0.1973 - loss: 22.2396\n",
      "Epoch 29/30\n",
      "574/574 - 1s - 1ms/step - accuracy: 0.1973 - loss: 22.2396\n",
      "Epoch 30/30\n",
      "574/574 - 1s - 1ms/step - accuracy: 0.1973 - loss: 22.2396\n"
     ]
    },
    {
     "data": {
      "text/plain": [
       "<keras.src.callbacks.history.History at 0x14fb17110>"
      ]
     },
     "execution_count": 37,
     "metadata": {},
     "output_type": "execute_result"
    }
   ],
   "source": [
    "model.fit(X_train, y_train, batch_size=batch_size, epochs=epochs, verbose=2)"
   ]
  },
  {
   "cell_type": "code",
   "execution_count": 38,
   "id": "728b3688",
   "metadata": {},
   "outputs": [],
   "source": [
    "# Create confusion matrix\n",
    "def confusion_matrix(y_true, y_pred):\n",
    "    y_true = pd.Series([stations[y] for y in np.argmax(y_true, axis=1)])\n",
    "    y_pred = pd.Series([stations[y] for y in np.argmax(y_pred, axis=1)])\n",
    "\n",
    "    return pd.crosstab(y_true, y_pred, rownames=['True'], colnames=['Pred'])"
   ]
  },
  {
   "cell_type": "code",
   "execution_count": 39,
   "id": "32dc8ed1",
   "metadata": {},
   "outputs": [
    {
     "name": "stdout",
     "output_type": "stream",
     "text": [
      "\u001b[1m144/144\u001b[0m \u001b[32m━━━━━━━━━━━━━━━━━━━━\u001b[0m\u001b[37m\u001b[0m \u001b[1m0s\u001b[0m 1ms/step\n",
      "Pred        BASEL  DUSSELDORF  KASSEL  MAASTRICHT\n",
      "True                                             \n",
      "BASEL         883         871     928         250\n",
      "BELGRADE      471         409      10          11\n",
      "BUDAPEST       62         105       0           0\n",
      "DEBILT         43          18       0           0\n",
      "DUSSELDORF      8          17       1           0\n",
      "HEATHROW       31          46       1           2\n",
      "KASSEL          4           3       0           0\n",
      "LJUBLJANA      17          24       0           3\n",
      "MAASTRICHT      0           5       0           2\n",
      "MADRID         36         250      54          10\n",
      "MUNCHENB        0           6       0           0\n",
      "OSLO            1           3       0           0\n",
      "STOCKHOLM       1           1       0           0\n",
      "VALENTIA        0           2       0           1\n"
     ]
    }
   ],
   "source": [
    "#Evaluate\n",
    "print(confusion_matrix(y_test, model.predict(X_test)))"
   ]
  }
 ],
 "metadata": {
  "kernelspec": {
   "display_name": "Python 3 (ipykernel)",
   "language": "python",
   "name": "python3"
  },
  "language_info": {
   "codemirror_mode": {
    "name": "ipython",
    "version": 3
   },
   "file_extension": ".py",
   "mimetype": "text/x-python",
   "name": "python",
   "nbconvert_exporter": "python",
   "pygments_lexer": "ipython3",
   "version": "3.11.4"
  }
 },
 "nbformat": 4,
 "nbformat_minor": 5
}
