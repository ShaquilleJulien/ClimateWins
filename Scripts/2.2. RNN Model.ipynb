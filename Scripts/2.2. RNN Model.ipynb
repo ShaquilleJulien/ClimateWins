{
 "cells": [
  {
   "cell_type": "code",
   "execution_count": 1,
   "id": "5ba76546",
   "metadata": {
    "scrolled": true
   },
   "outputs": [
    {
     "name": "stderr",
     "output_type": "stream",
     "text": [
      "2024-11-03 16:54:21.111056: I tensorflow/core/platform/cpu_feature_guard.cc:210] This TensorFlow binary is optimized to use available CPU instructions in performance-critical operations.\n",
      "To enable the following instructions: AVX2 FMA, in other operations, rebuild TensorFlow with the appropriate compiler flags.\n"
     ]
    }
   ],
   "source": [
    "# Import libraries\n",
    "import pandas as pd\n",
    "import numpy as np\n",
    "import seaborn as sns\n",
    "import os\n",
    "import operator\n",
    "import matplotlib.pyplot as plt\n",
    "from sklearn.model_selection import train_test_split\n",
    "from sklearn.preprocessing import LabelEncoder\n",
    "import tensorflow as tf\n",
    "from numpy import reshape\n",
    "from tensorflow import keras\n",
    "from tensorflow.keras import layers\n",
    "from keras.models import Sequential\n",
    "from keras.layers import LSTM\n",
    "from keras.layers import Conv1D, Conv2D, Dense, BatchNormalization, Flatten, MaxPooling1D, Dense, Dropout\n",
    "from keras.utils import to_categorical"
   ]
  },
  {
   "cell_type": "markdown",
   "id": "f94b102b",
   "metadata": {},
   "source": [
    "# Import Data \n"
   ]
  },
  {
   "cell_type": "code",
   "execution_count": 2,
   "id": "79369677",
   "metadata": {},
   "outputs": [],
   "source": [
    "path = R'/Users/shaquillelee/Documents/Specialization /Datasets'"
   ]
  },
  {
   "cell_type": "code",
   "execution_count": 3,
   "id": "ebe326e9",
   "metadata": {},
   "outputs": [],
   "source": [
    "weather_df = pd.read_csv(os.path.join(path, 'Prepared Data', 'weather_cleaned.csv'), index_col = 0)\n",
    "pleasant_df = pd.read_csv(os.path.join(path, 'Prepared Data', 'pleasant_cleaned.csv'), index_col = 0)"
   ]
  },
  {
   "cell_type": "code",
   "execution_count": 4,
   "id": "b65c6123",
   "metadata": {
    "scrolled": true
   },
   "outputs": [
    {
     "data": {
      "text/html": [
       "<div>\n",
       "<style scoped>\n",
       "    .dataframe tbody tr th:only-of-type {\n",
       "        vertical-align: middle;\n",
       "    }\n",
       "\n",
       "    .dataframe tbody tr th {\n",
       "        vertical-align: top;\n",
       "    }\n",
       "\n",
       "    .dataframe thead th {\n",
       "        text-align: right;\n",
       "    }\n",
       "</style>\n",
       "<table border=\"1\" class=\"dataframe\">\n",
       "  <thead>\n",
       "    <tr style=\"text-align: right;\">\n",
       "      <th></th>\n",
       "      <th>BASEL_cloud_cover</th>\n",
       "      <th>BASEL_humidity</th>\n",
       "      <th>BASEL_pressure</th>\n",
       "      <th>BASEL_global_radiation</th>\n",
       "      <th>BASEL_precipitation</th>\n",
       "      <th>BASEL_sunshine</th>\n",
       "      <th>BASEL_temp_mean</th>\n",
       "      <th>BASEL_temp_min</th>\n",
       "      <th>BASEL_temp_max</th>\n",
       "      <th>BELGRADE_cloud_cover</th>\n",
       "      <th>...</th>\n",
       "      <th>STOCKHOLM_temp_max</th>\n",
       "      <th>VALENTIA_cloud_cover</th>\n",
       "      <th>VALENTIA_humidity</th>\n",
       "      <th>VALENTIA_pressure</th>\n",
       "      <th>VALENTIA_global_radiation</th>\n",
       "      <th>VALENTIA_precipitation</th>\n",
       "      <th>VALENTIA_sunshine</th>\n",
       "      <th>VALENTIA_temp_mean</th>\n",
       "      <th>VALENTIA_temp_min</th>\n",
       "      <th>VALENTIA_temp_max</th>\n",
       "    </tr>\n",
       "  </thead>\n",
       "  <tbody>\n",
       "    <tr>\n",
       "      <th>0</th>\n",
       "      <td>7</td>\n",
       "      <td>0.85</td>\n",
       "      <td>1.018</td>\n",
       "      <td>0.32</td>\n",
       "      <td>0.09</td>\n",
       "      <td>0.7</td>\n",
       "      <td>6.5</td>\n",
       "      <td>0.8</td>\n",
       "      <td>10.9</td>\n",
       "      <td>1</td>\n",
       "      <td>...</td>\n",
       "      <td>4.9</td>\n",
       "      <td>5</td>\n",
       "      <td>0.88</td>\n",
       "      <td>1.0003</td>\n",
       "      <td>0.45</td>\n",
       "      <td>0.34</td>\n",
       "      <td>4.7</td>\n",
       "      <td>8.5</td>\n",
       "      <td>6.0</td>\n",
       "      <td>10.9</td>\n",
       "    </tr>\n",
       "    <tr>\n",
       "      <th>1</th>\n",
       "      <td>6</td>\n",
       "      <td>0.84</td>\n",
       "      <td>1.018</td>\n",
       "      <td>0.36</td>\n",
       "      <td>1.05</td>\n",
       "      <td>1.1</td>\n",
       "      <td>6.1</td>\n",
       "      <td>3.3</td>\n",
       "      <td>10.1</td>\n",
       "      <td>6</td>\n",
       "      <td>...</td>\n",
       "      <td>5.0</td>\n",
       "      <td>7</td>\n",
       "      <td>0.91</td>\n",
       "      <td>1.0007</td>\n",
       "      <td>0.25</td>\n",
       "      <td>0.84</td>\n",
       "      <td>0.7</td>\n",
       "      <td>8.9</td>\n",
       "      <td>5.6</td>\n",
       "      <td>12.1</td>\n",
       "    </tr>\n",
       "    <tr>\n",
       "      <th>2</th>\n",
       "      <td>8</td>\n",
       "      <td>0.90</td>\n",
       "      <td>1.018</td>\n",
       "      <td>0.18</td>\n",
       "      <td>0.30</td>\n",
       "      <td>0.0</td>\n",
       "      <td>8.5</td>\n",
       "      <td>5.1</td>\n",
       "      <td>9.9</td>\n",
       "      <td>6</td>\n",
       "      <td>...</td>\n",
       "      <td>4.1</td>\n",
       "      <td>7</td>\n",
       "      <td>0.91</td>\n",
       "      <td>1.0096</td>\n",
       "      <td>0.17</td>\n",
       "      <td>0.08</td>\n",
       "      <td>0.1</td>\n",
       "      <td>10.5</td>\n",
       "      <td>8.1</td>\n",
       "      <td>12.9</td>\n",
       "    </tr>\n",
       "    <tr>\n",
       "      <th>3</th>\n",
       "      <td>3</td>\n",
       "      <td>0.92</td>\n",
       "      <td>1.018</td>\n",
       "      <td>0.58</td>\n",
       "      <td>0.00</td>\n",
       "      <td>4.1</td>\n",
       "      <td>6.3</td>\n",
       "      <td>3.8</td>\n",
       "      <td>10.6</td>\n",
       "      <td>8</td>\n",
       "      <td>...</td>\n",
       "      <td>2.3</td>\n",
       "      <td>7</td>\n",
       "      <td>0.86</td>\n",
       "      <td>1.0184</td>\n",
       "      <td>0.13</td>\n",
       "      <td>0.98</td>\n",
       "      <td>0.0</td>\n",
       "      <td>7.4</td>\n",
       "      <td>7.3</td>\n",
       "      <td>10.6</td>\n",
       "    </tr>\n",
       "    <tr>\n",
       "      <th>4</th>\n",
       "      <td>6</td>\n",
       "      <td>0.95</td>\n",
       "      <td>1.018</td>\n",
       "      <td>0.65</td>\n",
       "      <td>0.14</td>\n",
       "      <td>5.4</td>\n",
       "      <td>3.0</td>\n",
       "      <td>-0.7</td>\n",
       "      <td>6.0</td>\n",
       "      <td>8</td>\n",
       "      <td>...</td>\n",
       "      <td>4.3</td>\n",
       "      <td>3</td>\n",
       "      <td>0.80</td>\n",
       "      <td>1.0328</td>\n",
       "      <td>0.46</td>\n",
       "      <td>0.00</td>\n",
       "      <td>5.7</td>\n",
       "      <td>5.7</td>\n",
       "      <td>3.0</td>\n",
       "      <td>8.4</td>\n",
       "    </tr>\n",
       "  </tbody>\n",
       "</table>\n",
       "<p>5 rows × 135 columns</p>\n",
       "</div>"
      ],
      "text/plain": [
       "   BASEL_cloud_cover  BASEL_humidity  BASEL_pressure  BASEL_global_radiation  \\\n",
       "0                  7            0.85           1.018                    0.32   \n",
       "1                  6            0.84           1.018                    0.36   \n",
       "2                  8            0.90           1.018                    0.18   \n",
       "3                  3            0.92           1.018                    0.58   \n",
       "4                  6            0.95           1.018                    0.65   \n",
       "\n",
       "   BASEL_precipitation  BASEL_sunshine  BASEL_temp_mean  BASEL_temp_min  \\\n",
       "0                 0.09             0.7              6.5             0.8   \n",
       "1                 1.05             1.1              6.1             3.3   \n",
       "2                 0.30             0.0              8.5             5.1   \n",
       "3                 0.00             4.1              6.3             3.8   \n",
       "4                 0.14             5.4              3.0            -0.7   \n",
       "\n",
       "   BASEL_temp_max  BELGRADE_cloud_cover  ...  STOCKHOLM_temp_max  \\\n",
       "0            10.9                     1  ...                 4.9   \n",
       "1            10.1                     6  ...                 5.0   \n",
       "2             9.9                     6  ...                 4.1   \n",
       "3            10.6                     8  ...                 2.3   \n",
       "4             6.0                     8  ...                 4.3   \n",
       "\n",
       "   VALENTIA_cloud_cover  VALENTIA_humidity  VALENTIA_pressure  \\\n",
       "0                     5               0.88             1.0003   \n",
       "1                     7               0.91             1.0007   \n",
       "2                     7               0.91             1.0096   \n",
       "3                     7               0.86             1.0184   \n",
       "4                     3               0.80             1.0328   \n",
       "\n",
       "   VALENTIA_global_radiation  VALENTIA_precipitation  VALENTIA_sunshine  \\\n",
       "0                       0.45                    0.34                4.7   \n",
       "1                       0.25                    0.84                0.7   \n",
       "2                       0.17                    0.08                0.1   \n",
       "3                       0.13                    0.98                0.0   \n",
       "4                       0.46                    0.00                5.7   \n",
       "\n",
       "   VALENTIA_temp_mean  VALENTIA_temp_min  VALENTIA_temp_max  \n",
       "0                 8.5                6.0               10.9  \n",
       "1                 8.9                5.6               12.1  \n",
       "2                10.5                8.1               12.9  \n",
       "3                 7.4                7.3               10.6  \n",
       "4                 5.7                3.0                8.4  \n",
       "\n",
       "[5 rows x 135 columns]"
      ]
     },
     "execution_count": 4,
     "metadata": {},
     "output_type": "execute_result"
    }
   ],
   "source": [
    "weather_df.head()"
   ]
  },
  {
   "cell_type": "code",
   "execution_count": 5,
   "id": "a478cff6",
   "metadata": {},
   "outputs": [
    {
     "data": {
      "text/plain": [
       "(22950, 135)"
      ]
     },
     "execution_count": 5,
     "metadata": {},
     "output_type": "execute_result"
    }
   ],
   "source": [
    "weather_df.shape"
   ]
  },
  {
   "cell_type": "code",
   "execution_count": 6,
   "id": "86c6141c",
   "metadata": {},
   "outputs": [
    {
     "data": {
      "text/html": [
       "<div>\n",
       "<style scoped>\n",
       "    .dataframe tbody tr th:only-of-type {\n",
       "        vertical-align: middle;\n",
       "    }\n",
       "\n",
       "    .dataframe tbody tr th {\n",
       "        vertical-align: top;\n",
       "    }\n",
       "\n",
       "    .dataframe thead th {\n",
       "        text-align: right;\n",
       "    }\n",
       "</style>\n",
       "<table border=\"1\" class=\"dataframe\">\n",
       "  <thead>\n",
       "    <tr style=\"text-align: right;\">\n",
       "      <th></th>\n",
       "      <th>BASEL_pleasant_weather</th>\n",
       "      <th>BELGRADE_pleasant_weather</th>\n",
       "      <th>BUDAPEST_pleasant_weather</th>\n",
       "      <th>DEBILT_pleasant_weather</th>\n",
       "      <th>DUSSELDORF_pleasant_weather</th>\n",
       "      <th>HEATHROW_pleasant_weather</th>\n",
       "      <th>KASSEL_pleasant_weather</th>\n",
       "      <th>LJUBLJANA_pleasant_weather</th>\n",
       "      <th>MAASTRICHT_pleasant_weather</th>\n",
       "      <th>MADRID_pleasant_weather</th>\n",
       "      <th>MUNCHENB_pleasant_weather</th>\n",
       "      <th>OSLO_pleasant_weather</th>\n",
       "      <th>SONNBLICK_pleasant_weather</th>\n",
       "      <th>STOCKHOLM_pleasant_weather</th>\n",
       "      <th>VALENTIA_pleasant_weather</th>\n",
       "    </tr>\n",
       "  </thead>\n",
       "  <tbody>\n",
       "    <tr>\n",
       "      <th>0</th>\n",
       "      <td>0</td>\n",
       "      <td>0</td>\n",
       "      <td>0</td>\n",
       "      <td>0</td>\n",
       "      <td>0</td>\n",
       "      <td>0</td>\n",
       "      <td>0</td>\n",
       "      <td>0</td>\n",
       "      <td>0</td>\n",
       "      <td>0</td>\n",
       "      <td>0</td>\n",
       "      <td>0</td>\n",
       "      <td>0</td>\n",
       "      <td>0</td>\n",
       "      <td>0</td>\n",
       "    </tr>\n",
       "    <tr>\n",
       "      <th>1</th>\n",
       "      <td>0</td>\n",
       "      <td>0</td>\n",
       "      <td>0</td>\n",
       "      <td>0</td>\n",
       "      <td>0</td>\n",
       "      <td>0</td>\n",
       "      <td>0</td>\n",
       "      <td>0</td>\n",
       "      <td>0</td>\n",
       "      <td>0</td>\n",
       "      <td>0</td>\n",
       "      <td>0</td>\n",
       "      <td>0</td>\n",
       "      <td>0</td>\n",
       "      <td>0</td>\n",
       "    </tr>\n",
       "    <tr>\n",
       "      <th>2</th>\n",
       "      <td>0</td>\n",
       "      <td>0</td>\n",
       "      <td>0</td>\n",
       "      <td>0</td>\n",
       "      <td>0</td>\n",
       "      <td>0</td>\n",
       "      <td>0</td>\n",
       "      <td>0</td>\n",
       "      <td>0</td>\n",
       "      <td>0</td>\n",
       "      <td>0</td>\n",
       "      <td>0</td>\n",
       "      <td>0</td>\n",
       "      <td>0</td>\n",
       "      <td>0</td>\n",
       "    </tr>\n",
       "    <tr>\n",
       "      <th>3</th>\n",
       "      <td>0</td>\n",
       "      <td>0</td>\n",
       "      <td>0</td>\n",
       "      <td>0</td>\n",
       "      <td>0</td>\n",
       "      <td>0</td>\n",
       "      <td>0</td>\n",
       "      <td>0</td>\n",
       "      <td>0</td>\n",
       "      <td>0</td>\n",
       "      <td>0</td>\n",
       "      <td>0</td>\n",
       "      <td>0</td>\n",
       "      <td>0</td>\n",
       "      <td>0</td>\n",
       "    </tr>\n",
       "    <tr>\n",
       "      <th>4</th>\n",
       "      <td>0</td>\n",
       "      <td>0</td>\n",
       "      <td>0</td>\n",
       "      <td>0</td>\n",
       "      <td>0</td>\n",
       "      <td>0</td>\n",
       "      <td>0</td>\n",
       "      <td>0</td>\n",
       "      <td>0</td>\n",
       "      <td>0</td>\n",
       "      <td>0</td>\n",
       "      <td>0</td>\n",
       "      <td>0</td>\n",
       "      <td>0</td>\n",
       "      <td>0</td>\n",
       "    </tr>\n",
       "  </tbody>\n",
       "</table>\n",
       "</div>"
      ],
      "text/plain": [
       "   BASEL_pleasant_weather  BELGRADE_pleasant_weather  \\\n",
       "0                       0                          0   \n",
       "1                       0                          0   \n",
       "2                       0                          0   \n",
       "3                       0                          0   \n",
       "4                       0                          0   \n",
       "\n",
       "   BUDAPEST_pleasant_weather  DEBILT_pleasant_weather  \\\n",
       "0                          0                        0   \n",
       "1                          0                        0   \n",
       "2                          0                        0   \n",
       "3                          0                        0   \n",
       "4                          0                        0   \n",
       "\n",
       "   DUSSELDORF_pleasant_weather  HEATHROW_pleasant_weather  \\\n",
       "0                            0                          0   \n",
       "1                            0                          0   \n",
       "2                            0                          0   \n",
       "3                            0                          0   \n",
       "4                            0                          0   \n",
       "\n",
       "   KASSEL_pleasant_weather  LJUBLJANA_pleasant_weather  \\\n",
       "0                        0                           0   \n",
       "1                        0                           0   \n",
       "2                        0                           0   \n",
       "3                        0                           0   \n",
       "4                        0                           0   \n",
       "\n",
       "   MAASTRICHT_pleasant_weather  MADRID_pleasant_weather  \\\n",
       "0                            0                        0   \n",
       "1                            0                        0   \n",
       "2                            0                        0   \n",
       "3                            0                        0   \n",
       "4                            0                        0   \n",
       "\n",
       "   MUNCHENB_pleasant_weather  OSLO_pleasant_weather  \\\n",
       "0                          0                      0   \n",
       "1                          0                      0   \n",
       "2                          0                      0   \n",
       "3                          0                      0   \n",
       "4                          0                      0   \n",
       "\n",
       "   SONNBLICK_pleasant_weather  STOCKHOLM_pleasant_weather  \\\n",
       "0                           0                           0   \n",
       "1                           0                           0   \n",
       "2                           0                           0   \n",
       "3                           0                           0   \n",
       "4                           0                           0   \n",
       "\n",
       "   VALENTIA_pleasant_weather  \n",
       "0                          0  \n",
       "1                          0  \n",
       "2                          0  \n",
       "3                          0  \n",
       "4                          0  "
      ]
     },
     "execution_count": 6,
     "metadata": {},
     "output_type": "execute_result"
    }
   ],
   "source": [
    "pleasant_df.head()"
   ]
  },
  {
   "cell_type": "code",
   "execution_count": 7,
   "id": "453c49be",
   "metadata": {},
   "outputs": [
    {
     "data": {
      "text/plain": [
       "(22950, 15)"
      ]
     },
     "execution_count": 7,
     "metadata": {},
     "output_type": "execute_result"
    }
   ],
   "source": [
    "pleasant_df.shape"
   ]
  },
  {
   "cell_type": "markdown",
   "id": "509d58cd",
   "metadata": {},
   "source": [
    "# Split Data "
   ]
  },
  {
   "cell_type": "code",
   "execution_count": 8,
   "id": "8a158537",
   "metadata": {},
   "outputs": [],
   "source": [
    "# Create 'X' Matrix \n",
    "X = weather_df\n",
    "y = pleasant_df"
   ]
  },
  {
   "cell_type": "code",
   "execution_count": 9,
   "id": "7f7583fa",
   "metadata": {},
   "outputs": [],
   "source": [
    "X = np.array(X)\n",
    "y = np.array(y)"
   ]
  },
  {
   "cell_type": "code",
   "execution_count": 10,
   "id": "b95d871e",
   "metadata": {
    "scrolled": true
   },
   "outputs": [
    {
     "data": {
      "text/plain": [
       "array([[ 7.    ,  0.85  ,  1.018 , ...,  8.5   ,  6.    , 10.9   ],\n",
       "       [ 6.    ,  0.84  ,  1.018 , ...,  8.9   ,  5.6   , 12.1   ],\n",
       "       [ 8.    ,  0.9   ,  1.018 , ..., 10.5   ,  8.1   , 12.9   ],\n",
       "       ...,\n",
       "       [ 4.    ,  0.76  ,  1.0227, ..., 10.7   ,  7.9   , 13.5   ],\n",
       "       [ 5.    ,  0.8   ,  1.0212, ..., 10.7   ,  7.9   , 13.5   ],\n",
       "       [ 5.    ,  0.84  ,  1.0193, ..., 10.7   ,  7.9   , 13.5   ]])"
      ]
     },
     "execution_count": 10,
     "metadata": {},
     "output_type": "execute_result"
    }
   ],
   "source": [
    "X"
   ]
  },
  {
   "cell_type": "code",
   "execution_count": 11,
   "id": "b532a461",
   "metadata": {},
   "outputs": [],
   "source": [
    "X = X.reshape(-1,15,9)"
   ]
  },
  {
   "cell_type": "code",
   "execution_count": 12,
   "id": "cfc7c856",
   "metadata": {},
   "outputs": [],
   "source": [
    "#Split data into training and testing sets.\n",
    "X_train, X_test, y_train, y_test = train_test_split(X,y,test_size=0.2)"
   ]
  },
  {
   "cell_type": "code",
   "execution_count": 13,
   "id": "06a63dd6",
   "metadata": {},
   "outputs": [
    {
     "name": "stdout",
     "output_type": "stream",
     "text": [
      "(18360, 15, 9) (18360, 15)\n",
      "(4590, 15, 9) (4590, 15)\n"
     ]
    }
   ],
   "source": [
    "print(X_train.shape, y_train.shape)\n",
    "print(X_test.shape, y_test.shape)"
   ]
  },
  {
   "cell_type": "markdown",
   "id": "0c095c89",
   "metadata": {},
   "source": [
    "# Creating RNN"
   ]
  },
  {
   "cell_type": "code",
   "execution_count": 14,
   "id": "3bbaf0da",
   "metadata": {},
   "outputs": [],
   "source": [
    "stations = {\n",
    "    0: 'BASEL',\n",
    "    1: 'BELGRADE',\n",
    "    2: 'BUDAPEST',\n",
    "    3: 'DEBILT',\n",
    "    4: 'DUSSELDORF',\n",
    "    5: 'HEATHROW',\n",
    "    6: 'KASSEL',\n",
    "    7: 'LJUBLJANA',\n",
    "    8: 'MAASTRICHT',\n",
    "    9: 'MADRID',\n",
    "   10: 'MUNCHENB',\n",
    "   11: 'OSLO',\n",
    "   12: 'SONNBLICK',\n",
    "   13: 'STOCKHOLM',\n",
    "   14: 'VALENTIA',\n",
    "}"
   ]
  },
  {
   "cell_type": "code",
   "execution_count": 15,
   "id": "01d01f32",
   "metadata": {},
   "outputs": [
    {
     "name": "stderr",
     "output_type": "stream",
     "text": [
      "/Users/shaquillelee/anaconda3/lib/python3.11/site-packages/keras/src/layers/rnn/rnn.py:204: UserWarning: Do not pass an `input_shape`/`input_dim` argument to a layer. When using Sequential models, prefer using an `Input(shape)` object as the first layer in the model instead.\n",
      "  super().__init__(**kwargs)\n"
     ]
    }
   ],
   "source": [
    "# Create a Keras leyered model. Use initial hyperparameters: 4, 16, 18, softmax\n",
    "epochs = 4\n",
    "batch_size = 16\n",
    "n_hidden = 18\n",
    "\n",
    "timesteps = len(X_train[0])\n",
    "input_dim = len(X_train[0][0])\n",
    "n_classes = len(y_train[0])\n",
    "\n",
    "model = Sequential()\n",
    "model.add(LSTM(n_hidden, input_shape=(timesteps, input_dim)))\n",
    "model.add(Dropout(0.5))\n",
    "model.add(Dense(n_classes, activation='softmax'))"
   ]
  },
  {
   "cell_type": "code",
   "execution_count": 16,
   "id": "8aefd318",
   "metadata": {},
   "outputs": [],
   "source": [
    "model.compile(loss='categorical_crossentropy',\n",
    "              optimizer='rmsprop',\n",
    "              metrics=['accuracy'])"
   ]
  },
  {
   "cell_type": "code",
   "execution_count": 17,
   "id": "c4c4856d",
   "metadata": {},
   "outputs": [
    {
     "name": "stdout",
     "output_type": "stream",
     "text": [
      "Epoch 1/4\n",
      "\u001b[1m1148/1148\u001b[0m \u001b[32m━━━━━━━━━━━━━━━━━━━━\u001b[0m\u001b[37m\u001b[0m \u001b[1m7s\u001b[0m 5ms/step - accuracy: 0.0987 - loss: 9.7779 - val_accuracy: 0.0349 - val_loss: 8.6965\n",
      "Epoch 2/4\n",
      "\u001b[1m1148/1148\u001b[0m \u001b[32m━━━━━━━━━━━━━━━━━━━━\u001b[0m\u001b[37m\u001b[0m \u001b[1m4s\u001b[0m 3ms/step - accuracy: 0.0798 - loss: 9.7906 - val_accuracy: 0.0296 - val_loss: 8.9405\n",
      "Epoch 3/4\n",
      "\u001b[1m1148/1148\u001b[0m \u001b[32m━━━━━━━━━━━━━━━━━━━━\u001b[0m\u001b[37m\u001b[0m \u001b[1m4s\u001b[0m 3ms/step - accuracy: 0.0844 - loss: 9.8592 - val_accuracy: 0.0373 - val_loss: 9.2180\n",
      "Epoch 4/4\n",
      "\u001b[1m1148/1148\u001b[0m \u001b[32m━━━━━━━━━━━━━━━━━━━━\u001b[0m\u001b[37m\u001b[0m \u001b[1m4s\u001b[0m 3ms/step - accuracy: 0.0840 - loss: 10.0351 - val_accuracy: 0.0375 - val_loss: 9.5386\n"
     ]
    },
    {
     "data": {
      "text/plain": [
       "<keras.src.callbacks.history.History at 0x14b4320d0>"
      ]
     },
     "execution_count": 17,
     "metadata": {},
     "output_type": "execute_result"
    }
   ],
   "source": [
    "model.fit(X_train,\n",
    "          y_train,\n",
    "          batch_size=batch_size,\n",
    "          validation_data=(X_test, y_test),\n",
    "          epochs=epochs)"
   ]
  },
  {
   "cell_type": "code",
   "execution_count": 18,
   "id": "ba50fc77",
   "metadata": {},
   "outputs": [],
   "source": [
    "# Create confusion matrix\n",
    "def confusion_matrix(y_true, y_pred):\n",
    "    y_true = pd.Series([stations[y] for y in np.argmax(y_true, axis=1)])\n",
    "    y_pred = pd.Series([stations[y] for y in np.argmax(y_pred, axis=1)])\n",
    "\n",
    "    return pd.crosstab(y_true, y_pred, rownames=['True'], colnames=['Pred'])"
   ]
  },
  {
   "cell_type": "code",
   "execution_count": 19,
   "id": "28029f26",
   "metadata": {},
   "outputs": [
    {
     "name": "stdout",
     "output_type": "stream",
     "text": [
      "\u001b[1m144/144\u001b[0m \u001b[32m━━━━━━━━━━━━━━━━━━━━\u001b[0m\u001b[37m\u001b[0m \u001b[1m0s\u001b[0m 2ms/step\n",
      "Pred        BELGRADE  KASSEL  MADRID  STOCKHOLM  VALENTIA\n",
      "True                                                     \n",
      "BASEL              1       3    1246          0      1712\n",
      "BELGRADE           2       0     831          1        48\n",
      "BUDAPEST           1       0     155          0         4\n",
      "DEBILT             0       0      74          0         1\n",
      "DUSSELDORF         2       0      14          0         1\n",
      "HEATHROW           1       0      67          0         7\n",
      "KASSEL             0       0      16          0         0\n",
      "LJUBLJANA          0       0      38          0         3\n",
      "MAASTRICHT         0       0       8          0         1\n",
      "MADRID             3       0     170          0       167\n",
      "MUNCHENB           0       0       3          0         2\n",
      "OSLO               0       0       5          0         0\n",
      "STOCKHOLM          0       0       1          0         0\n",
      "VALENTIA           0       0       2          0         0\n"
     ]
    }
   ],
   "source": [
    "# Evaluate\n",
    "print(confusion_matrix(y_test, model.predict(X_test)))"
   ]
  },
  {
   "cell_type": "code",
   "execution_count": 20,
   "id": "377a5f72",
   "metadata": {},
   "outputs": [
    {
     "name": "stderr",
     "output_type": "stream",
     "text": [
      "/Users/shaquillelee/anaconda3/lib/python3.11/site-packages/keras/src/layers/rnn/rnn.py:204: UserWarning: Do not pass an `input_shape`/`input_dim` argument to a layer. When using Sequential models, prefer using an `Input(shape)` object as the first layer in the model instead.\n",
      "  super().__init__(**kwargs)\n"
     ]
    }
   ],
   "source": [
    "# Create a Keras leyered model. Use initial hyperparameters: 30, 32, 64, softmax\n",
    "epochs = 30\n",
    "batch_size = 32\n",
    "n_hidden = 64\n",
    "\n",
    "timesteps = len(X_train[0])\n",
    "input_dim = len(X_train[0][0])\n",
    "n_classes = len(y_train[0])\n",
    "\n",
    "model = Sequential()\n",
    "model.add(LSTM(n_hidden, input_shape=(timesteps, input_dim)))\n",
    "model.add(Dropout(0.5))\n",
    "model.add(Dense(n_classes, activation='softmax')) "
   ]
  },
  {
   "cell_type": "code",
   "execution_count": 21,
   "id": "0f529569",
   "metadata": {},
   "outputs": [],
   "source": [
    "model.compile(loss='categorical_crossentropy',\n",
    "              optimizer='rmsprop',\n",
    "              metrics=['accuracy'])"
   ]
  },
  {
   "cell_type": "code",
   "execution_count": 22,
   "id": "9bd29b9e",
   "metadata": {
    "scrolled": true
   },
   "outputs": [
    {
     "name": "stdout",
     "output_type": "stream",
     "text": [
      "Epoch 1/30\n",
      "\u001b[1m574/574\u001b[0m \u001b[32m━━━━━━━━━━━━━━━━━━━━\u001b[0m\u001b[37m\u001b[0m \u001b[1m4s\u001b[0m 5ms/step - accuracy: 0.0903 - loss: 11.4562 - val_accuracy: 0.0562 - val_loss: 9.3883\n",
      "Epoch 2/30\n",
      "\u001b[1m574/574\u001b[0m \u001b[32m━━━━━━━━━━━━━━━━━━━━\u001b[0m\u001b[37m\u001b[0m \u001b[1m3s\u001b[0m 5ms/step - accuracy: 0.0801 - loss: 11.5894 - val_accuracy: 0.0386 - val_loss: 9.7370\n",
      "Epoch 3/30\n",
      "\u001b[1m574/574\u001b[0m \u001b[32m━━━━━━━━━━━━━━━━━━━━\u001b[0m\u001b[37m\u001b[0m \u001b[1m3s\u001b[0m 4ms/step - accuracy: 0.0895 - loss: 11.6941 - val_accuracy: 0.0505 - val_loss: 9.6085\n",
      "Epoch 4/30\n",
      "\u001b[1m574/574\u001b[0m \u001b[32m━━━━━━━━━━━━━━━━━━━━\u001b[0m\u001b[37m\u001b[0m \u001b[1m3s\u001b[0m 4ms/step - accuracy: 0.0823 - loss: 11.5776 - val_accuracy: 0.0405 - val_loss: 10.1398\n",
      "Epoch 5/30\n",
      "\u001b[1m574/574\u001b[0m \u001b[32m━━━━━━━━━━━━━━━━━━━━\u001b[0m\u001b[37m\u001b[0m \u001b[1m3s\u001b[0m 4ms/step - accuracy: 0.0894 - loss: 12.1824 - val_accuracy: 0.0447 - val_loss: 10.4209\n",
      "Epoch 6/30\n",
      "\u001b[1m574/574\u001b[0m \u001b[32m━━━━━━━━━━━━━━━━━━━━\u001b[0m\u001b[37m\u001b[0m \u001b[1m3s\u001b[0m 5ms/step - accuracy: 0.0846 - loss: 12.3048 - val_accuracy: 0.0451 - val_loss: 10.8237\n",
      "Epoch 7/30\n",
      "\u001b[1m574/574\u001b[0m \u001b[32m━━━━━━━━━━━━━━━━━━━━\u001b[0m\u001b[37m\u001b[0m \u001b[1m3s\u001b[0m 4ms/step - accuracy: 0.0815 - loss: 12.9233 - val_accuracy: 0.0420 - val_loss: 11.0942\n",
      "Epoch 8/30\n",
      "\u001b[1m574/574\u001b[0m \u001b[32m━━━━━━━━━━━━━━━━━━━━\u001b[0m\u001b[37m\u001b[0m \u001b[1m3s\u001b[0m 4ms/step - accuracy: 0.0810 - loss: 12.9845 - val_accuracy: 0.0377 - val_loss: 11.5262\n",
      "Epoch 9/30\n",
      "\u001b[1m574/574\u001b[0m \u001b[32m━━━━━━━━━━━━━━━━━━━━\u001b[0m\u001b[37m\u001b[0m \u001b[1m2s\u001b[0m 4ms/step - accuracy: 0.0826 - loss: 12.9250 - val_accuracy: 0.0455 - val_loss: 11.7493\n",
      "Epoch 10/30\n",
      "\u001b[1m574/574\u001b[0m \u001b[32m━━━━━━━━━━━━━━━━━━━━\u001b[0m\u001b[37m\u001b[0m \u001b[1m2s\u001b[0m 4ms/step - accuracy: 0.0796 - loss: 13.3916 - val_accuracy: 0.0451 - val_loss: 12.0825\n",
      "Epoch 11/30\n",
      "\u001b[1m574/574\u001b[0m \u001b[32m━━━━━━━━━━━━━━━━━━━━\u001b[0m\u001b[37m\u001b[0m \u001b[1m2s\u001b[0m 4ms/step - accuracy: 0.0799 - loss: 13.6404 - val_accuracy: 0.0312 - val_loss: 12.3436\n",
      "Epoch 12/30\n",
      "\u001b[1m574/574\u001b[0m \u001b[32m━━━━━━━━━━━━━━━━━━━━\u001b[0m\u001b[37m\u001b[0m \u001b[1m2s\u001b[0m 4ms/step - accuracy: 0.0811 - loss: 13.7796 - val_accuracy: 0.0370 - val_loss: 12.4704\n",
      "Epoch 13/30\n",
      "\u001b[1m574/574\u001b[0m \u001b[32m━━━━━━━━━━━━━━━━━━━━\u001b[0m\u001b[37m\u001b[0m \u001b[1m2s\u001b[0m 4ms/step - accuracy: 0.0791 - loss: 13.8355 - val_accuracy: 0.0440 - val_loss: 12.6157\n",
      "Epoch 14/30\n",
      "\u001b[1m574/574\u001b[0m \u001b[32m━━━━━━━━━━━━━━━━━━━━\u001b[0m\u001b[37m\u001b[0m \u001b[1m2s\u001b[0m 4ms/step - accuracy: 0.0773 - loss: 13.8345 - val_accuracy: 0.0394 - val_loss: 12.9743\n",
      "Epoch 15/30\n",
      "\u001b[1m574/574\u001b[0m \u001b[32m━━━━━━━━━━━━━━━━━━━━\u001b[0m\u001b[37m\u001b[0m \u001b[1m3s\u001b[0m 4ms/step - accuracy: 0.0833 - loss: 14.2633 - val_accuracy: 0.0471 - val_loss: 13.3819\n",
      "Epoch 16/30\n",
      "\u001b[1m574/574\u001b[0m \u001b[32m━━━━━━━━━━━━━━━━━━━━\u001b[0m\u001b[37m\u001b[0m \u001b[1m2s\u001b[0m 4ms/step - accuracy: 0.0863 - loss: 14.7828 - val_accuracy: 0.0451 - val_loss: 13.5889\n",
      "Epoch 17/30\n",
      "\u001b[1m574/574\u001b[0m \u001b[32m━━━━━━━━━━━━━━━━━━━━\u001b[0m\u001b[37m\u001b[0m \u001b[1m3s\u001b[0m 4ms/step - accuracy: 0.0771 - loss: 14.7381 - val_accuracy: 0.0475 - val_loss: 13.9304\n",
      "Epoch 18/30\n",
      "\u001b[1m574/574\u001b[0m \u001b[32m━━━━━━━━━━━━━━━━━━━━\u001b[0m\u001b[37m\u001b[0m \u001b[1m3s\u001b[0m 4ms/step - accuracy: 0.0764 - loss: 14.9389 - val_accuracy: 0.0462 - val_loss: 14.0673\n",
      "Epoch 19/30\n",
      "\u001b[1m574/574\u001b[0m \u001b[32m━━━━━━━━━━━━━━━━━━━━\u001b[0m\u001b[37m\u001b[0m \u001b[1m3s\u001b[0m 4ms/step - accuracy: 0.0766 - loss: 15.4092 - val_accuracy: 0.0388 - val_loss: 14.3588\n",
      "Epoch 20/30\n",
      "\u001b[1m574/574\u001b[0m \u001b[32m━━━━━━━━━━━━━━━━━━━━\u001b[0m\u001b[37m\u001b[0m \u001b[1m2s\u001b[0m 4ms/step - accuracy: 0.0843 - loss: 15.4916 - val_accuracy: 0.0294 - val_loss: 14.3931\n",
      "Epoch 21/30\n",
      "\u001b[1m574/574\u001b[0m \u001b[32m━━━━━━━━━━━━━━━━━━━━\u001b[0m\u001b[37m\u001b[0m \u001b[1m2s\u001b[0m 4ms/step - accuracy: 0.0779 - loss: 15.5264 - val_accuracy: 0.0366 - val_loss: 14.8701\n",
      "Epoch 22/30\n",
      "\u001b[1m574/574\u001b[0m \u001b[32m━━━━━━━━━━━━━━━━━━━━\u001b[0m\u001b[37m\u001b[0m \u001b[1m2s\u001b[0m 4ms/step - accuracy: 0.0761 - loss: 15.7602 - val_accuracy: 0.0401 - val_loss: 14.9611\n",
      "Epoch 23/30\n",
      "\u001b[1m574/574\u001b[0m \u001b[32m━━━━━━━━━━━━━━━━━━━━\u001b[0m\u001b[37m\u001b[0m \u001b[1m2s\u001b[0m 4ms/step - accuracy: 0.0760 - loss: 15.6695 - val_accuracy: 0.0277 - val_loss: 15.2645\n",
      "Epoch 24/30\n",
      "\u001b[1m574/574\u001b[0m \u001b[32m━━━━━━━━━━━━━━━━━━━━\u001b[0m\u001b[37m\u001b[0m \u001b[1m2s\u001b[0m 4ms/step - accuracy: 0.0692 - loss: 15.9761 - val_accuracy: 0.0412 - val_loss: 15.2809\n",
      "Epoch 25/30\n",
      "\u001b[1m574/574\u001b[0m \u001b[32m━━━━━━━━━━━━━━━━━━━━\u001b[0m\u001b[37m\u001b[0m \u001b[1m2s\u001b[0m 4ms/step - accuracy: 0.0810 - loss: 16.0721 - val_accuracy: 0.0405 - val_loss: 15.7216\n",
      "Epoch 26/30\n",
      "\u001b[1m574/574\u001b[0m \u001b[32m━━━━━━━━━━━━━━━━━━━━\u001b[0m\u001b[37m\u001b[0m \u001b[1m2s\u001b[0m 4ms/step - accuracy: 0.0696 - loss: 16.5748 - val_accuracy: 0.0377 - val_loss: 15.9220\n",
      "Epoch 27/30\n",
      "\u001b[1m574/574\u001b[0m \u001b[32m━━━━━━━━━━━━━━━━━━━━\u001b[0m\u001b[37m\u001b[0m \u001b[1m2s\u001b[0m 4ms/step - accuracy: 0.0721 - loss: 16.5336 - val_accuracy: 0.0303 - val_loss: 16.2302\n",
      "Epoch 28/30\n",
      "\u001b[1m574/574\u001b[0m \u001b[32m━━━━━━━━━━━━━━━━━━━━\u001b[0m\u001b[37m\u001b[0m \u001b[1m2s\u001b[0m 4ms/step - accuracy: 0.0693 - loss: 16.9564 - val_accuracy: 0.0329 - val_loss: 16.3360\n",
      "Epoch 29/30\n",
      "\u001b[1m574/574\u001b[0m \u001b[32m━━━━━━━━━━━━━━━━━━━━\u001b[0m\u001b[37m\u001b[0m \u001b[1m3s\u001b[0m 5ms/step - accuracy: 0.0649 - loss: 17.1205 - val_accuracy: 0.0392 - val_loss: 16.6257\n",
      "Epoch 30/30\n",
      "\u001b[1m574/574\u001b[0m \u001b[32m━━━━━━━━━━━━━━━━━━━━\u001b[0m\u001b[37m\u001b[0m \u001b[1m2s\u001b[0m 4ms/step - accuracy: 0.0667 - loss: 17.3941 - val_accuracy: 0.0462 - val_loss: 16.8261\n"
     ]
    },
    {
     "data": {
      "text/plain": [
       "<keras.src.callbacks.history.History at 0x14bbc6110>"
      ]
     },
     "execution_count": 22,
     "metadata": {},
     "output_type": "execute_result"
    }
   ],
   "source": [
    "model.fit(X_train,\n",
    "          y_train,\n",
    "          batch_size=batch_size,\n",
    "          validation_data=(X_test, y_test),\n",
    "          epochs=epochs)"
   ]
  },
  {
   "cell_type": "code",
   "execution_count": 23,
   "id": "1c1e9ad5",
   "metadata": {},
   "outputs": [],
   "source": [
    "# Create confusion matrix\n",
    "def confusion_matrix(y_true, y_pred):\n",
    "    y_true = pd.Series([stations[y] for y in np.argmax(y_true, axis=1)])\n",
    "    y_pred = pd.Series([stations[y] for y in np.argmax(y_pred, axis=1)])\n",
    "\n",
    "    return pd.crosstab(y_true, y_pred, rownames=['True'], colnames=['Pred'])"
   ]
  },
  {
   "cell_type": "code",
   "execution_count": 24,
   "id": "13e09269",
   "metadata": {
    "scrolled": true
   },
   "outputs": [
    {
     "name": "stdout",
     "output_type": "stream",
     "text": [
      "\u001b[1m144/144\u001b[0m \u001b[32m━━━━━━━━━━━━━━━━━━━━\u001b[0m\u001b[37m\u001b[0m \u001b[1m0s\u001b[0m 3ms/step\n",
      "Pred        KASSEL  LJUBLJANA  MADRID  OSLO  SONNBLICK  VALENTIA\n",
      "True                                                            \n",
      "BASEL            1          0    1196    21          2      1742\n",
      "BELGRADE         1          1     814    12          0        54\n",
      "BUDAPEST         0          0     152     3          0         5\n",
      "DEBILT           0          0      74     1          0         0\n",
      "DUSSELDORF       0          0      17     0          0         0\n",
      "HEATHROW         0          0      70     0          0         5\n",
      "KASSEL           0          0      16     0          0         0\n",
      "LJUBLJANA        0          0      38     2          0         1\n",
      "MAASTRICHT       0          0       8     0          0         1\n",
      "MADRID           1          0     212     6          0       121\n",
      "MUNCHENB         0          0       2     0          0         3\n",
      "OSLO             0          0       5     0          0         0\n",
      "STOCKHOLM        0          0       1     0          0         0\n",
      "VALENTIA         0          0       2     0          0         0\n"
     ]
    }
   ],
   "source": [
    "# Evaluate\n",
    "print(confusion_matrix(y_test, model.predict(X_test)))"
   ]
  },
  {
   "cell_type": "code",
   "execution_count": 36,
   "id": "5b46b5dd",
   "metadata": {},
   "outputs": [],
   "source": [
    "# Create a Keras leyered model. Change activation type: 30, 32, 64, sigmoid\n",
    "epochs = 20\n",
    "batch_size = 32\n",
    "n_hidden = 84\n",
    "\n",
    "timesteps = len(X_train[0])\n",
    "input_dim = len(X_train[0][0])\n",
    "n_classes = len(y_train[0])\n",
    "\n",
    "model = Sequential()\n",
    "model.add(LSTM(n_hidden, input_shape=(timesteps, input_dim)))\n",
    "model.add(Dropout(0.5))\n",
    "model.add(Dense(n_classes, activation='sigmoid'))"
   ]
  },
  {
   "cell_type": "code",
   "execution_count": 37,
   "id": "07f3be67",
   "metadata": {},
   "outputs": [],
   "source": [
    "model.compile(loss='categorical_crossentropy',\n",
    "              optimizer='rmsprop',\n",
    "              metrics=['accuracy'])"
   ]
  },
  {
   "cell_type": "code",
   "execution_count": 38,
   "id": "a802fa8d",
   "metadata": {
    "scrolled": false
   },
   "outputs": [
    {
     "name": "stdout",
     "output_type": "stream",
     "text": [
      "Epoch 1/20\n",
      "\u001b[1m574/574\u001b[0m \u001b[32m━━━━━━━━━━━━━━━━━━━━\u001b[0m\u001b[37m\u001b[0m \u001b[1m4s\u001b[0m 5ms/step - accuracy: 0.1087 - loss: 10.8501 - val_accuracy: 0.1887 - val_loss: 9.2777\n",
      "Epoch 2/20\n",
      "\u001b[1m574/574\u001b[0m \u001b[32m━━━━━━━━━━━━━━━━━━━━\u001b[0m\u001b[37m\u001b[0m \u001b[1m3s\u001b[0m 5ms/step - accuracy: 0.0982 - loss: 11.6296 - val_accuracy: 0.0519 - val_loss: 9.5595\n",
      "Epoch 3/20\n",
      "\u001b[1m574/574\u001b[0m \u001b[32m━━━━━━━━━━━━━━━━━━━━\u001b[0m\u001b[37m\u001b[0m \u001b[1m3s\u001b[0m 5ms/step - accuracy: 0.0911 - loss: 11.5146 - val_accuracy: 0.0420 - val_loss: 10.0103\n",
      "Epoch 4/20\n",
      "\u001b[1m574/574\u001b[0m \u001b[32m━━━━━━━━━━━━━━━━━━━━\u001b[0m\u001b[37m\u001b[0m \u001b[1m3s\u001b[0m 5ms/step - accuracy: 0.0994 - loss: 12.0766 - val_accuracy: 0.0298 - val_loss: 10.5125\n",
      "Epoch 5/20\n",
      "\u001b[1m574/574\u001b[0m \u001b[32m━━━━━━━━━━━━━━━━━━━━\u001b[0m\u001b[37m\u001b[0m \u001b[1m3s\u001b[0m 5ms/step - accuracy: 0.0887 - loss: 12.3604 - val_accuracy: 0.0479 - val_loss: 10.8587\n",
      "Epoch 6/20\n",
      "\u001b[1m574/574\u001b[0m \u001b[32m━━━━━━━━━━━━━━━━━━━━\u001b[0m\u001b[37m\u001b[0m \u001b[1m3s\u001b[0m 5ms/step - accuracy: 0.0863 - loss: 12.5137 - val_accuracy: 0.0538 - val_loss: 11.4028\n",
      "Epoch 7/20\n",
      "\u001b[1m574/574\u001b[0m \u001b[32m━━━━━━━━━━━━━━━━━━━━\u001b[0m\u001b[37m\u001b[0m \u001b[1m3s\u001b[0m 5ms/step - accuracy: 0.0909 - loss: 13.0606 - val_accuracy: 0.0453 - val_loss: 11.7446\n",
      "Epoch 8/20\n",
      "\u001b[1m574/574\u001b[0m \u001b[32m━━━━━━━━━━━━━━━━━━━━\u001b[0m\u001b[37m\u001b[0m \u001b[1m3s\u001b[0m 5ms/step - accuracy: 0.0888 - loss: 13.1860 - val_accuracy: 0.0418 - val_loss: 11.8407\n",
      "Epoch 9/20\n",
      "\u001b[1m574/574\u001b[0m \u001b[32m━━━━━━━━━━━━━━━━━━━━\u001b[0m\u001b[37m\u001b[0m \u001b[1m3s\u001b[0m 5ms/step - accuracy: 0.0909 - loss: 13.4485 - val_accuracy: 0.0318 - val_loss: 12.3010\n",
      "Epoch 10/20\n",
      "\u001b[1m574/574\u001b[0m \u001b[32m━━━━━━━━━━━━━━━━━━━━\u001b[0m\u001b[37m\u001b[0m \u001b[1m3s\u001b[0m 5ms/step - accuracy: 0.0884 - loss: 13.8676 - val_accuracy: 0.0305 - val_loss: 12.8018\n",
      "Epoch 11/20\n",
      "\u001b[1m574/574\u001b[0m \u001b[32m━━━━━━━━━━━━━━━━━━━━\u001b[0m\u001b[37m\u001b[0m \u001b[1m3s\u001b[0m 5ms/step - accuracy: 0.0818 - loss: 14.1218 - val_accuracy: 0.0366 - val_loss: 13.1076\n",
      "Epoch 12/20\n",
      "\u001b[1m574/574\u001b[0m \u001b[32m━━━━━━━━━━━━━━━━━━━━\u001b[0m\u001b[37m\u001b[0m \u001b[1m3s\u001b[0m 5ms/step - accuracy: 0.0797 - loss: 14.3601 - val_accuracy: 0.0327 - val_loss: 13.4880\n",
      "Epoch 13/20\n",
      "\u001b[1m574/574\u001b[0m \u001b[32m━━━━━━━━━━━━━━━━━━━━\u001b[0m\u001b[37m\u001b[0m \u001b[1m3s\u001b[0m 5ms/step - accuracy: 0.0828 - loss: 14.8175 - val_accuracy: 0.0451 - val_loss: 13.9034\n",
      "Epoch 14/20\n",
      "\u001b[1m574/574\u001b[0m \u001b[32m━━━━━━━━━━━━━━━━━━━━\u001b[0m\u001b[37m\u001b[0m \u001b[1m3s\u001b[0m 6ms/step - accuracy: 0.0825 - loss: 15.1959 - val_accuracy: 0.0418 - val_loss: 14.0963\n",
      "Epoch 15/20\n",
      "\u001b[1m574/574\u001b[0m \u001b[32m━━━━━━━━━━━━━━━━━━━━\u001b[0m\u001b[37m\u001b[0m \u001b[1m3s\u001b[0m 5ms/step - accuracy: 0.0877 - loss: 14.9920 - val_accuracy: 0.0534 - val_loss: 14.3030\n",
      "Epoch 16/20\n",
      "\u001b[1m574/574\u001b[0m \u001b[32m━━━━━━━━━━━━━━━━━━━━\u001b[0m\u001b[37m\u001b[0m \u001b[1m3s\u001b[0m 6ms/step - accuracy: 0.0823 - loss: 15.5096 - val_accuracy: 0.0399 - val_loss: 14.8809\n",
      "Epoch 17/20\n",
      "\u001b[1m574/574\u001b[0m \u001b[32m━━━━━━━━━━━━━━━━━━━━\u001b[0m\u001b[37m\u001b[0m \u001b[1m3s\u001b[0m 6ms/step - accuracy: 0.0805 - loss: 15.9259 - val_accuracy: 0.0436 - val_loss: 15.1548\n",
      "Epoch 18/20\n",
      "\u001b[1m574/574\u001b[0m \u001b[32m━━━━━━━━━━━━━━━━━━━━\u001b[0m\u001b[37m\u001b[0m \u001b[1m3s\u001b[0m 5ms/step - accuracy: 0.0867 - loss: 15.8826 - val_accuracy: 0.0453 - val_loss: 15.4051\n",
      "Epoch 19/20\n",
      "\u001b[1m574/574\u001b[0m \u001b[32m━━━━━━━━━━━━━━━━━━━━\u001b[0m\u001b[37m\u001b[0m \u001b[1m3s\u001b[0m 5ms/step - accuracy: 0.0724 - loss: 16.1122 - val_accuracy: 0.0431 - val_loss: 15.6386\n",
      "Epoch 20/20\n",
      "\u001b[1m574/574\u001b[0m \u001b[32m━━━━━━━━━━━━━━━━━━━━\u001b[0m\u001b[37m\u001b[0m \u001b[1m3s\u001b[0m 5ms/step - accuracy: 0.0726 - loss: 16.2900 - val_accuracy: 0.0333 - val_loss: 15.9253\n"
     ]
    },
    {
     "data": {
      "text/plain": [
       "<keras.src.callbacks.history.History at 0x14d1a9a50>"
      ]
     },
     "execution_count": 38,
     "metadata": {},
     "output_type": "execute_result"
    }
   ],
   "source": [
    "model.fit(X_train,\n",
    "          y_train,\n",
    "          batch_size=batch_size,\n",
    "          validation_data=(X_test, y_test),\n",
    "          epochs=epochs)"
   ]
  },
  {
   "cell_type": "code",
   "execution_count": 39,
   "id": "04fa6af8",
   "metadata": {},
   "outputs": [],
   "source": [
    "# Create confusion matrix\n",
    "def confusion_matrix(y_true, y_pred):\n",
    "    y_true = pd.Series([stations[y] for y in np.argmax(y_true, axis=1)])\n",
    "    y_pred = pd.Series([stations[y] for y in np.argmax(y_pred, axis=1)])\n",
    "\n",
    "    return pd.crosstab(y_true, y_pred, rownames=['True'], colnames=['Pred'])"
   ]
  },
  {
   "cell_type": "code",
   "execution_count": 40,
   "id": "0713b64b",
   "metadata": {
    "scrolled": true
   },
   "outputs": [
    {
     "name": "stdout",
     "output_type": "stream",
     "text": [
      "\u001b[1m144/144\u001b[0m \u001b[32m━━━━━━━━━━━━━━━━━━━━\u001b[0m\u001b[37m\u001b[0m \u001b[1m1s\u001b[0m 3ms/step\n",
      "Pred        BASEL  MADRID\n",
      "True                     \n",
      "BASEL        2962       0\n",
      "BELGRADE      882       0\n",
      "BUDAPEST      160       0\n",
      "DEBILT         75       0\n",
      "DUSSELDORF     17       0\n",
      "HEATHROW       75       0\n",
      "KASSEL         16       0\n",
      "LJUBLJANA      41       0\n",
      "MAASTRICHT      9       0\n",
      "MADRID        338       2\n",
      "MUNCHENB        5       0\n",
      "OSLO            5       0\n",
      "STOCKHOLM       1       0\n",
      "VALENTIA        2       0\n"
     ]
    }
   ],
   "source": [
    "# Evaluate\n",
    "print(confusion_matrix(y_test, model.predict(X_test)))"
   ]
  },
  {
   "cell_type": "code",
   "execution_count": 41,
   "id": "a6c392c1",
   "metadata": {},
   "outputs": [
    {
     "name": "stderr",
     "output_type": "stream",
     "text": [
      "/Users/shaquillelee/anaconda3/lib/python3.11/site-packages/keras/src/layers/rnn/rnn.py:204: UserWarning: Do not pass an `input_shape`/`input_dim` argument to a layer. When using Sequential models, prefer using an `Input(shape)` object as the first layer in the model instead.\n",
      "  super().__init__(**kwargs)\n"
     ]
    }
   ],
   "source": [
    "# Create a Keras leyered model. Change activation type: 30, 32, 64, tanh\n",
    "epochs = 20\n",
    "batch_size = 32\n",
    "n_hidden = 84\n",
    "\n",
    "timesteps = len(X_train[0])\n",
    "input_dim = len(X_train[0][0])\n",
    "n_classes = len(y_train[0])\n",
    "\n",
    "model = Sequential()\n",
    "model.add(LSTM(n_hidden, input_shape=(timesteps, input_dim)))\n",
    "model.add(Dropout(0.5))\n",
    "model.add(Dense(n_classes, activation='tanh'))"
   ]
  },
  {
   "cell_type": "code",
   "execution_count": 42,
   "id": "ebb60b68",
   "metadata": {},
   "outputs": [],
   "source": [
    "model.compile(loss='categorical_crossentropy',\n",
    "              optimizer='rmsprop',\n",
    "              metrics=['accuracy'])"
   ]
  },
  {
   "cell_type": "code",
   "execution_count": 43,
   "id": "fa05ca60",
   "metadata": {},
   "outputs": [
    {
     "name": "stdout",
     "output_type": "stream",
     "text": [
      "Epoch 1/20\n",
      "\u001b[1m574/574\u001b[0m \u001b[32m━━━━━━━━━━━━━━━━━━━━\u001b[0m\u001b[37m\u001b[0m \u001b[1m4s\u001b[0m 6ms/step - accuracy: 0.0814 - loss: 24.8048 - val_accuracy: 0.1237 - val_loss: 21.4896\n",
      "Epoch 2/20\n",
      "\u001b[1m574/574\u001b[0m \u001b[32m━━━━━━━━━━━━━━━━━━━━\u001b[0m\u001b[37m\u001b[0m \u001b[1m3s\u001b[0m 5ms/step - accuracy: 0.0891 - loss: 25.1021 - val_accuracy: 0.0111 - val_loss: 24.0170\n",
      "Epoch 3/20\n",
      "\u001b[1m574/574\u001b[0m \u001b[32m━━━━━━━━━━━━━━━━━━━━\u001b[0m\u001b[37m\u001b[0m \u001b[1m3s\u001b[0m 5ms/step - accuracy: 0.0323 - loss: 25.1811 - val_accuracy: 2.1786e-04 - val_loss: 20.5554\n",
      "Epoch 4/20\n",
      "\u001b[1m574/574\u001b[0m \u001b[32m━━━━━━━━━━━━━━━━━━━━\u001b[0m\u001b[37m\u001b[0m \u001b[1m3s\u001b[0m 5ms/step - accuracy: 0.0206 - loss: 24.9426 - val_accuracy: 8.7146e-04 - val_loss: 29.7011\n",
      "Epoch 5/20\n",
      "\u001b[1m574/574\u001b[0m \u001b[32m━━━━━━━━━━━━━━━━━━━━\u001b[0m\u001b[37m\u001b[0m \u001b[1m3s\u001b[0m 5ms/step - accuracy: 0.0092 - loss: 24.4116 - val_accuracy: 4.3573e-04 - val_loss: 25.5055\n",
      "Epoch 6/20\n",
      "\u001b[1m574/574\u001b[0m \u001b[32m━━━━━━━━━━━━━━━━━━━━\u001b[0m\u001b[37m\u001b[0m \u001b[1m3s\u001b[0m 5ms/step - accuracy: 0.0128 - loss: 24.6898 - val_accuracy: 6.5359e-04 - val_loss: 26.0767\n",
      "Epoch 7/20\n",
      "\u001b[1m574/574\u001b[0m \u001b[32m━━━━━━━━━━━━━━━━━━━━\u001b[0m\u001b[37m\u001b[0m \u001b[1m3s\u001b[0m 5ms/step - accuracy: 0.0336 - loss: 24.7053 - val_accuracy: 2.1786e-04 - val_loss: 22.7283\n",
      "Epoch 8/20\n",
      "\u001b[1m574/574\u001b[0m \u001b[32m━━━━━━━━━━━━━━━━━━━━\u001b[0m\u001b[37m\u001b[0m \u001b[1m3s\u001b[0m 5ms/step - accuracy: 0.0253 - loss: 24.9119 - val_accuracy: 2.1786e-04 - val_loss: 18.0171\n",
      "Epoch 9/20\n",
      "\u001b[1m574/574\u001b[0m \u001b[32m━━━━━━━━━━━━━━━━━━━━\u001b[0m\u001b[37m\u001b[0m \u001b[1m3s\u001b[0m 5ms/step - accuracy: 0.0203 - loss: 24.7780 - val_accuracy: 4.3573e-04 - val_loss: 28.6711\n",
      "Epoch 10/20\n",
      "\u001b[1m574/574\u001b[0m \u001b[32m━━━━━━━━━━━━━━━━━━━━\u001b[0m\u001b[37m\u001b[0m \u001b[1m3s\u001b[0m 5ms/step - accuracy: 0.0069 - loss: 24.6473 - val_accuracy: 0.0011 - val_loss: 24.1195\n",
      "Epoch 11/20\n",
      "\u001b[1m574/574\u001b[0m \u001b[32m━━━━━━━━━━━━━━━━━━━━\u001b[0m\u001b[37m\u001b[0m \u001b[1m3s\u001b[0m 5ms/step - accuracy: 0.0146 - loss: 24.6246 - val_accuracy: 6.5359e-04 - val_loss: 28.3261\n",
      "Epoch 12/20\n",
      "\u001b[1m574/574\u001b[0m \u001b[32m━━━━━━━━━━━━━━━━━━━━\u001b[0m\u001b[37m\u001b[0m \u001b[1m3s\u001b[0m 5ms/step - accuracy: 0.0046 - loss: 24.4513 - val_accuracy: 4.3573e-04 - val_loss: 26.2648\n",
      "Epoch 13/20\n",
      "\u001b[1m574/574\u001b[0m \u001b[32m━━━━━━━━━━━━━━━━━━━━\u001b[0m\u001b[37m\u001b[0m \u001b[1m3s\u001b[0m 5ms/step - accuracy: 0.0048 - loss: 24.6310 - val_accuracy: 8.7146e-04 - val_loss: 20.0619\n",
      "Epoch 14/20\n",
      "\u001b[1m574/574\u001b[0m \u001b[32m━━━━━━━━━━━━━━━━━━━━\u001b[0m\u001b[37m\u001b[0m \u001b[1m3s\u001b[0m 5ms/step - accuracy: 0.0040 - loss: 23.6519 - val_accuracy: 4.3573e-04 - val_loss: 28.2098\n",
      "Epoch 15/20\n",
      "\u001b[1m574/574\u001b[0m \u001b[32m━━━━━━━━━━━━━━━━━━━━\u001b[0m\u001b[37m\u001b[0m \u001b[1m3s\u001b[0m 5ms/step - accuracy: 0.0036 - loss: 24.3883 - val_accuracy: 2.1786e-04 - val_loss: 26.2044\n",
      "Epoch 16/20\n",
      "\u001b[1m574/574\u001b[0m \u001b[32m━━━━━━━━━━━━━━━━━━━━\u001b[0m\u001b[37m\u001b[0m \u001b[1m3s\u001b[0m 5ms/step - accuracy: 0.0036 - loss: 24.7537 - val_accuracy: 8.7146e-04 - val_loss: 30.0335\n",
      "Epoch 17/20\n",
      "\u001b[1m574/574\u001b[0m \u001b[32m━━━━━━━━━━━━━━━━━━━━\u001b[0m\u001b[37m\u001b[0m \u001b[1m3s\u001b[0m 5ms/step - accuracy: 0.0047 - loss: 25.0398 - val_accuracy: 0.0020 - val_loss: 26.2945\n",
      "Epoch 18/20\n",
      "\u001b[1m574/574\u001b[0m \u001b[32m━━━━━━━━━━━━━━━━━━━━\u001b[0m\u001b[37m\u001b[0m \u001b[1m3s\u001b[0m 5ms/step - accuracy: 0.0066 - loss: 24.7346 - val_accuracy: 0.0059 - val_loss: 26.4272\n",
      "Epoch 19/20\n",
      "\u001b[1m574/574\u001b[0m \u001b[32m━━━━━━━━━━━━━━━━━━━━\u001b[0m\u001b[37m\u001b[0m \u001b[1m3s\u001b[0m 5ms/step - accuracy: 0.0143 - loss: 24.6865 - val_accuracy: 0.0020 - val_loss: 22.7423\n",
      "Epoch 20/20\n",
      "\u001b[1m574/574\u001b[0m \u001b[32m━━━━━━━━━━━━━━━━━━━━\u001b[0m\u001b[37m\u001b[0m \u001b[1m3s\u001b[0m 5ms/step - accuracy: 0.0095 - loss: 24.3871 - val_accuracy: 0.0100 - val_loss: 29.5061\n"
     ]
    },
    {
     "data": {
      "text/plain": [
       "<keras.src.callbacks.history.History at 0x1500bf590>"
      ]
     },
     "execution_count": 43,
     "metadata": {},
     "output_type": "execute_result"
    }
   ],
   "source": [
    "model.fit(X_train,\n",
    "          y_train,\n",
    "          batch_size=batch_size,\n",
    "          validation_data=(X_test, y_test),\n",
    "          epochs=epochs)"
   ]
  },
  {
   "cell_type": "code",
   "execution_count": 44,
   "id": "f8c9259e",
   "metadata": {},
   "outputs": [],
   "source": [
    "# Create confusion matrix\n",
    "def confusion_matrix(y_true, y_pred):\n",
    "    y_true = pd.Series([stations[y] for y in np.argmax(y_true, axis=1)])\n",
    "    y_pred = pd.Series([stations[y] for y in np.argmax(y_pred, axis=1)])\n",
    "\n",
    "    return pd.crosstab(y_true, y_pred, rownames=['True'], colnames=['Pred'])"
   ]
  },
  {
   "cell_type": "code",
   "execution_count": 45,
   "id": "b69312f4",
   "metadata": {},
   "outputs": [
    {
     "name": "stdout",
     "output_type": "stream",
     "text": [
      "\u001b[1m144/144\u001b[0m \u001b[32m━━━━━━━━━━━━━━━━━━━━\u001b[0m\u001b[37m\u001b[0m \u001b[1m1s\u001b[0m 4ms/step\n",
      "Pred        BELGRADE  DUSSELDORF  MAASTRICHT  STOCKHOLM\n",
      "True                                                   \n",
      "BASEL           1321          50          11       1580\n",
      "BELGRADE          45           0           0        837\n",
      "BUDAPEST           5           0           0        155\n",
      "DEBILT             0           0           0         75\n",
      "DUSSELDORF         0           0           0         17\n",
      "HEATHROW           3           0           0         72\n",
      "KASSEL             0           0           0         16\n",
      "LJUBLJANA          3           1           0         37\n",
      "MAASTRICHT         1           0           0          8\n",
      "MADRID            81           6           0        253\n",
      "MUNCHENB           0           0           0          5\n",
      "OSLO               0           0           0          5\n",
      "STOCKHOLM          0           0           0          1\n",
      "VALENTIA           0           0           0          2\n"
     ]
    }
   ],
   "source": [
    "# Evaluate\n",
    "print(confusion_matrix(y_test, model.predict(X_test)))"
   ]
  },
  {
   "cell_type": "code",
   "execution_count": null,
   "id": "7eaaff18",
   "metadata": {},
   "outputs": [],
   "source": []
  }
 ],
 "metadata": {
  "kernelspec": {
   "display_name": "Python 3 (ipykernel)",
   "language": "python",
   "name": "python3"
  },
  "language_info": {
   "codemirror_mode": {
    "name": "ipython",
    "version": 3
   },
   "file_extension": ".py",
   "mimetype": "text/x-python",
   "name": "python",
   "nbconvert_exporter": "python",
   "pygments_lexer": "ipython3",
   "version": "3.11.4"
  }
 },
 "nbformat": 4,
 "nbformat_minor": 5
}
